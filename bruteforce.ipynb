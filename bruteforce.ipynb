{
 "cells": [
  {
   "cell_type": "code",
   "execution_count": 1,
   "id": "unauthorized-marble",
   "metadata": {},
   "outputs": [],
   "source": [
    "import numpy as np\n",
    "import networkx as nx"
   ]
  },
  {
   "cell_type": "code",
   "execution_count": 4,
   "id": "residential-detection",
   "metadata": {},
   "outputs": [],
   "source": [
    "point_cloud = np.array([[0,0], [2,-0.2], [4,0.2], [0,-1.5], [2,-3], [4,-1], [3.8,-2.5]] )\n",
    "EPSILON = 10\n"
   ]
  },
  {
   "cell_type": "code",
   "execution_count": 19,
   "id": "golden-bobby",
   "metadata": {},
   "outputs": [],
   "source": [
    "def create_dicts(points, threshold):\n",
    "    edict = {}\n",
    "    ndict = {}\n",
    "\n",
    "    for i, vertex in enumerate(points[:-1]):\n",
    "        ndict[i] = []\n",
    "        for j, other_v in enumerate(points[i+1:]):\n",
    "            distance = np.linalg.norm(vertex - other_v)\n",
    "            if distance <= threshold:\n",
    "                edict[(i, j+i+1)] = distance\n",
    "                ndict[i] += [j+i+1]\n",
    "\n",
    "    ndict[len(points)-1] = []\n",
    "                \n",
    "    return edict, ndict\n",
    "\n",
    "\n"
   ]
  },
  {
   "cell_type": "code",
   "execution_count": 20,
   "id": "comparative-belfast",
   "metadata": {},
   "outputs": [
    {
     "data": {
      "text/plain": [
       "({(0, 1): 2.009975124224178,\n",
       "  (0, 2): 4.004996878900157,\n",
       "  (0, 3): 1.5,\n",
       "  (0, 4): 3.605551275463989,\n",
       "  (0, 5): 4.123105625617661,\n",
       "  (0, 6): 4.548626166217663,\n",
       "  (1, 2): 2.039607805437114,\n",
       "  (1, 3): 2.3853720883753127,\n",
       "  (1, 4): 2.8,\n",
       "  (1, 5): 2.154065922853802,\n",
       "  (1, 6): 2.920616373302046,\n",
       "  (2, 3): 4.346262762420146,\n",
       "  (2, 4): 3.773592452822642,\n",
       "  (2, 5): 1.2,\n",
       "  (2, 6): 2.7073972741361767,\n",
       "  (3, 4): 2.5,\n",
       "  (3, 5): 4.031128874149275,\n",
       "  (3, 6): 3.9293765408777,\n",
       "  (4, 5): 2.8284271247461903,\n",
       "  (4, 6): 1.8681541692269403,\n",
       "  (5, 6): 1.5132745950421556},\n",
       " {0: [1, 2, 3, 4, 5, 6],\n",
       "  1: [2, 3, 4, 5, 6],\n",
       "  2: [3, 4, 5, 6],\n",
       "  3: [4, 5, 6],\n",
       "  4: [5, 6],\n",
       "  5: [6],\n",
       "  6: []})"
      ]
     },
     "execution_count": 20,
     "metadata": {},
     "output_type": "execute_result"
    }
   ],
   "source": [
    "create_dicts(point_cloud, EPSILON)"
   ]
  },
  {
   "cell_type": "code",
   "execution_count": null,
   "id": "anticipated-formula",
   "metadata": {},
   "outputs": [],
   "source": []
  },
  {
   "cell_type": "code",
   "execution_count": 21,
   "id": "spare-array",
   "metadata": {},
   "outputs": [],
   "source": [
    "def ECC_recursive(point_cloud, epsilon):\n",
    "    \n",
    "    ECC_list = []\n",
    "\n",
    "    for i, vertex in enumerate(point_cloud):\n",
    "        \n",
    "        #create local graph\n",
    "        #G_i = create_graph_from_pointcloud(point_cloud[i:], epsilon)\n",
    "        \n",
    "        edict, ndict = create_dicts(point_cloud[i:], epsilon) \n",
    "        \n",
    "        ECC_list.append( extend_clique(clique={0}, # only the first vertex (the one for wich we want the star)\n",
    "                                       neighbors=set(ndict[0]), # neigh of the first vertex\n",
    "                                       filtration=0, \n",
    "                                       edict=edict,\n",
    "                                       ndict=ndict,\n",
    "                                       # remember, list are passed by reference!\n",
    "                                       contributions_list=ECC_list) )\n",
    "\n",
    "    \n",
    "    return(sorted(ECC_list, key = lambda x: x[0]))  "
   ]
  },
  {
   "cell_type": "code",
   "execution_count": 22,
   "id": "configured-chapel",
   "metadata": {},
   "outputs": [],
   "source": [
    "def extend_clique(clique, neighbors, filtration, edict, ndict, contributions_list):\n",
    "        \n",
    "    while len(neighbors) > 0:\n",
    "        # removes the first common neighbour and add it to the clique\n",
    "        to_add = neighbors.pop()\n",
    "        \n",
    "        # find new filtration by cheching the new edges\n",
    "        new_filtration = filtration\n",
    "        for v in clique:\n",
    "            if edict[(v,to_add)] > new_filtration:\n",
    "                new_filtration = edict[(v,to_add)]\n",
    "        \n",
    "        contributions_list.append(extend_clique(clique.union({to_add}), \n",
    "                                      neighbors.intersection(ndict[to_add]), \n",
    "                                      new_filtration,\n",
    "                                      edict,\n",
    "                                      ndict,\n",
    "                                      contributions_list) )\n",
    "        \n",
    "    return [filtration, (-1)**(len(clique)-1)]  "
   ]
  },
  {
   "cell_type": "code",
   "execution_count": 23,
   "id": "afraid-philadelphia",
   "metadata": {},
   "outputs": [],
   "source": [
    "from matplotlib import pyplot as plt\n",
    "import ecc_plot"
   ]
  },
  {
   "cell_type": "code",
   "execution_count": 24,
   "id": "removable-violation",
   "metadata": {},
   "outputs": [],
   "source": [
    "c_ls = ECC_recursive(point_cloud, EPSILON)"
   ]
  },
  {
   "cell_type": "code",
   "execution_count": 25,
   "id": "dramatic-phoenix",
   "metadata": {},
   "outputs": [
    {
     "data": {
      "image/png": "[encoded data removed]",
      "text/plain": [
       "<Figure size 432x288 with 1 Axes>"
      ]
     },
     "metadata": {
      "needs_background": "light"
     },
     "output_type": "display_data"
    }
   ],
   "source": [
    "e_ls = ecc_plot.euler_characteristic_list_from_all(c_ls)\n",
    "ecc_plot.plot_euler_curve(e_ls, True, \"Local Simplex\")"
   ]
  },
  {
   "cell_type": "code",
   "execution_count": null,
   "id": "comparable-latino",
   "metadata": {},
   "outputs": [],
   "source": []
  },
  {
   "cell_type": "code",
   "execution_count": null,
   "id": "preliminary-telephone",
   "metadata": {},
   "outputs": [],
   "source": []
  },
  {
   "cell_type": "code",
   "execution_count": null,
   "id": "characteristic-wings",
   "metadata": {},
   "outputs": [],
   "source": []
  },
  {
   "cell_type": "code",
   "execution_count": null,
   "id": "skilled-throat",
   "metadata": {},
   "outputs": [],
   "source": []
  },
  {
   "cell_type": "code",
   "execution_count": null,
   "id": "little-salon",
   "metadata": {},
   "outputs": [],
   "source": []
  }
 ],
 "metadata": {
  "kernelspec": {
   "display_name": "Python 3",
   "language": "python",
   "name": "python3"
  },
  "language_info": {
   "codemirror_mode": {
    "name": "ipython",
    "version": 3
   },
   "file_extension": ".py",
   "mimetype": "text/x-python",
   "name": "python",
   "nbconvert_exporter": "python",
   "pygments_lexer": "ipython3",
   "version": "3.8.6"
  }
 },
 "nbformat": 4,
 "nbformat_minor": 5
}
