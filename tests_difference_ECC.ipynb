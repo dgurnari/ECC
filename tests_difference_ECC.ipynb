{
 "cells": [
  {
   "cell_type": "code",
   "execution_count": 1,
   "metadata": {
    "colab": {},
    "colab_type": "code",
    "id": "ot949Bzu-J-z"
   },
   "outputs": [],
   "source": [
    "import numpy as np\n",
    "from matplotlib import pyplot as plt\n",
    "import random\n",
    "import gudhi as gd\n",
    "import gudhi.wasserstein\n",
    "import itertools\n",
    "\n",
    "import tadasets\n",
    "from datetime import datetime\n",
    "\n",
    "from tqdm.notebook import tqdm\n",
    "\n",
    "import ecc_gudhi\n",
    "import ecc_recursive\n",
    "import ecc_sequential\n",
    "import ecc_sequential_CPP\n",
    "import compute_local_EC\n",
    "import ecc_utils"
   ]
  },
  {
   "cell_type": "code",
   "execution_count": 2,
   "metadata": {},
   "outputs": [],
   "source": [
    "# https://anaconda.org/conda-forge/memory_profiler\n",
    "%load_ext memory_profiler"
   ]
  },
  {
   "cell_type": "code",
   "execution_count": 3,
   "metadata": {},
   "outputs": [],
   "source": [
    "%load_ext line_profiler"
   ]
  },
  {
   "cell_type": "code",
   "execution_count": null,
   "metadata": {},
   "outputs": [],
   "source": []
  },
  {
   "cell_type": "code",
   "execution_count": 4,
   "metadata": {},
   "outputs": [],
   "source": [
    "def compute_ECC_from_simplextree(st):\n",
    "    local_contributions = {} # dict {filtration: contribution}\n",
    "\n",
    "    simplex_counter = 0\n",
    "\n",
    "    for simplex, filtration in st.get_filtration():\n",
    "        contribution = (-1)**(len(simplex)-1) # len(simplex) - 1 = dimension of the simplex\n",
    "        # store the contribution at the right filtration value\n",
    "        local_contributions[filtration] = local_contributions.get(filtration, 0) + contribution\n",
    "\n",
    "        simplex_counter += 1\n",
    "\n",
    "    # remove the contributions that are 0\n",
    "    to_del = []\n",
    "    for key in local_contributions:\n",
    "        if local_contributions[key] == 0:\n",
    "            to_del.append(key)\n",
    "\n",
    "    for key in to_del:\n",
    "        del local_contributions[key]\n",
    "\n",
    "    # convert the dict into a list, sort it according to the filtration and return it\n",
    "    return sorted(list(local_contributions.items()), key = lambda x: x[0]), simplex_counter"
   ]
  },
  {
   "cell_type": "code",
   "execution_count": null,
   "metadata": {},
   "outputs": [],
   "source": []
  },
  {
   "cell_type": "markdown",
   "metadata": {
    "colab_type": "text",
    "id": "-iuN2jTm5lTI"
   },
   "source": [
    "## Rhomboid"
   ]
  },
  {
   "cell_type": "code",
   "execution_count": 5,
   "metadata": {
    "colab": {},
    "colab_type": "code",
    "id": "uMk5CYwI5Ywx"
   },
   "outputs": [
    {
     "name": "stdout",
     "output_type": "stream",
     "text": [
      "\t simplicies found:           15\n",
      "\t points in the ecc plot:     6\n"
     ]
    },
    {
     "data": {
      "image/png": "[encoded data removed]",
      "text/plain": [
       "<Figure size 432x288 with 1 Axes>"
      ]
     },
     "metadata": {
      "needs_background": "light"
     },
     "output_type": "display_data"
    }
   ],
   "source": [
    "epsilon = 10\n",
    "\n",
    "#point_cloud_1 = np.array([[4,0], [0,3.5], [-2, 0], [-0.5, -3]])\n",
    "\n",
    "point_cloud_1 = np.array([[0,0], [0,3], [4, 0], [2.5, 3.5]])\n",
    "\n",
    "rips_complex_1 = gd.RipsComplex(points=point_cloud_1, max_edge_length=epsilon)\n",
    "simplex_tree_1 = rips_complex_1.create_simplex_tree(max_dimension=len(point_cloud_1)-1)\n",
    "\n",
    "\n",
    "\n",
    "\n",
    "c_1, ns_1 = compute_ECC_from_simplextree(simplex_tree_1)\n",
    "print(\"\\t simplicies found:          \", ns_1)\n",
    "\n",
    "ecc_1 = ecc_utils.euler_characteristic_list_from_all(c_1)\n",
    "print(\"\\t points in the ecc plot:    \", len(ecc_1))\n",
    "\n",
    "ecc_utils.plot_euler_curve(ecc_1, True, \"ECC\")\n",
    "\n",
    "simplex_tree_1.compute_persistence(persistence_dim_max=True, min_persistence=-1)"
   ]
  },
  {
   "cell_type": "code",
   "execution_count": 6,
   "metadata": {},
   "outputs": [
    {
     "name": "stdout",
     "output_type": "stream",
     "text": [
      "\t simplicies found:           15\n",
      "\t points in the ecc plot:     6\n"
     ]
    },
    {
     "data": {
      "image/png": "[encoded data removed]",
      "text/plain": [
       "<Figure size 432x288 with 1 Axes>"
      ]
     },
     "metadata": {
      "needs_background": "light"
     },
     "output_type": "display_data"
    }
   ],
   "source": [
    "simplex_tree_2 = gd.SimplexTree()\n",
    "\n",
    "for s in simplex_tree_1.get_filtration():\n",
    "    f = s[1]\n",
    "    if len(s[0]) > 1:\n",
    "        f += 0.2\n",
    "    simplex_tree_2.insert(s[0], filtration=f)\n",
    "    \n",
    "c_2, ns_2 = compute_ECC_from_simplextree(simplex_tree_2)\n",
    "print(\"\\t simplicies found:          \", ns_2)\n",
    "\n",
    "ecc_2 = ecc_utils.euler_characteristic_list_from_all(c_2)\n",
    "print(\"\\t points in the ecc plot:    \", len(ecc_2))\n",
    "\n",
    "ecc_utils.plot_euler_curve(ecc_2, True, \"ECC\")\n",
    "\n",
    "simplex_tree_2.compute_persistence(persistence_dim_max=True, min_persistence=-1)"
   ]
  },
  {
   "cell_type": "code",
   "execution_count": 7,
   "metadata": {},
   "outputs": [
    {
     "name": "stdout",
     "output_type": "stream",
     "text": [
      "1.0000000000000009\n"
     ]
    }
   ],
   "source": [
    "ecc_dist = ecc_utils.difference_ECC(ecc_1, ecc_2, 10)\n",
    "print(ecc_dist)"
   ]
  },
  {
   "cell_type": "code",
   "execution_count": 8,
   "metadata": {},
   "outputs": [
    {
     "name": "stdout",
     "output_type": "stream",
     "text": [
      "1.0000000000000009\n"
     ]
    }
   ],
   "source": [
    "w1_list = []\n",
    "\n",
    "for i in range(len(point_cloud_1)):\n",
    "    \n",
    "    X = np.array([p for p in simplex_tree_1.persistence_intervals_in_dimension(i) if p[1] != np.inf])\n",
    "    Y = np.array([p for p in simplex_tree_2.persistence_intervals_in_dimension(i) if p[1] != np.inf])\n",
    "    \n",
    "    w1_list.append(gudhi.wasserstein.wasserstein_distance(X, Y))\n",
    "\n",
    "tot_w1 = w1_list[0]\n",
    "for w_i in w1_list[1:]:\n",
    "    tot_w1 += 2*w_i\n",
    "    \n",
    "print(tot_w1)\n",
    "\n",
    "assert(ecc_dist <= tot_w1)"
   ]
  },
  {
   "cell_type": "code",
   "execution_count": null,
   "metadata": {},
   "outputs": [],
   "source": []
  },
  {
   "cell_type": "code",
   "execution_count": null,
   "metadata": {},
   "outputs": [],
   "source": []
  },
  {
   "cell_type": "markdown",
   "metadata": {},
   "source": [
    "# example"
   ]
  },
  {
   "cell_type": "code",
   "execution_count": null,
   "metadata": {},
   "outputs": [],
   "source": []
  },
  {
   "cell_type": "code",
   "execution_count": 9,
   "metadata": {},
   "outputs": [
    {
     "name": "stdout",
     "output_type": "stream",
     "text": [
      "\t simplicies found:           127\n",
      "\t points in the ecc plot:     9\n"
     ]
    },
    {
     "data": {
      "image/png": "[encoded data removed]",
      "text/plain": [
       "<Figure size 432x288 with 1 Axes>"
      ]
     },
     "metadata": {
      "needs_background": "light"
     },
     "output_type": "display_data"
    }
   ],
   "source": [
    "epsilon = 10\n",
    "\n",
    "point_cloud_1 = np.array([[0,0], [2,-0.2], [4,0.2], [0,-1.5], [2,-3], [4,-1], [3.8,-2.5]] )\n",
    "\n",
    "rips_complex_1 = gd.RipsComplex(points=point_cloud_1, max_edge_length=epsilon)\n",
    "simplex_tree_1 = rips_complex_1.create_simplex_tree(max_dimension=len(point_cloud_1)-1)\n",
    "\n",
    "\n",
    "\n",
    "\n",
    "c_1, ns_1 = compute_ECC_from_simplextree(simplex_tree_1)\n",
    "print(\"\\t simplicies found:          \", ns_1)\n",
    "\n",
    "ecc_1 = ecc_utils.euler_characteristic_list_from_all(c_1)\n",
    "print(\"\\t points in the ecc plot:    \", len(ecc_1))\n",
    "\n",
    "ecc_utils.plot_euler_curve(ecc_1, True, \"ECC\")\n",
    "\n",
    "simplex_tree_1.compute_persistence(persistence_dim_max=True, min_persistence=-1)"
   ]
  },
  {
   "cell_type": "code",
   "execution_count": 10,
   "metadata": {},
   "outputs": [
    {
     "name": "stdout",
     "output_type": "stream",
     "text": [
      "\t simplicies found:           127\n",
      "\t points in the ecc plot:     9\n"
     ]
    },
    {
     "data": {
      "image/png": "[encoded data removed]",
      "text/plain": [
       "<Figure size 432x288 with 1 Axes>"
      ]
     },
     "metadata": {
      "needs_background": "light"
     },
     "output_type": "display_data"
    }
   ],
   "source": [
    "simplex_tree_2 = gd.SimplexTree()\n",
    "\n",
    "for s in simplex_tree_1.get_filtration():\n",
    "    f = s[1]\n",
    "    if len(s[0]) > 1:\n",
    "        f += 0.2\n",
    "    simplex_tree_2.insert(s[0], filtration=f)\n",
    "\n",
    "simplex_tree_2.compute_persistence(persistence_dim_max=True, min_persistence=-1)    \n",
    "    \n",
    "c_2, ns_2 = compute_ECC_from_simplextree(simplex_tree_2)\n",
    "print(\"\\t simplicies found:          \", ns_2)\n",
    "\n",
    "ecc_2 = ecc_utils.euler_characteristic_list_from_all(c_2)\n",
    "print(\"\\t points in the ecc plot:    \", len(ecc_2))\n",
    "\n",
    "ecc_utils.plot_euler_curve(ecc_2, True, \"ECC\")"
   ]
  },
  {
   "cell_type": "code",
   "execution_count": 11,
   "metadata": {},
   "outputs": [],
   "source": [
    "ecc_dist = ecc_utils.difference_ECC(ecc_1, ecc_2, 10)"
   ]
  },
  {
   "cell_type": "code",
   "execution_count": 12,
   "metadata": {},
   "outputs": [
    {
     "name": "stdout",
     "output_type": "stream",
     "text": [
      "1.6000000000000005\n"
     ]
    }
   ],
   "source": [
    "w1_list = []\n",
    "\n",
    "simplex_tree_1\n",
    "\n",
    "\n",
    "for i in range(len(point_cloud_1)):\n",
    "    \n",
    "    X = np.array([p for p in simplex_tree_1.persistence_intervals_in_dimension(i) if p[1] != np.inf])\n",
    "    Y = np.array([p for p in simplex_tree_2.persistence_intervals_in_dimension(i) if p[1] != np.inf])\n",
    "    \n",
    "    w1_list.append(gudhi.wasserstein.wasserstein_distance(X, Y))\n",
    "\n",
    "tot_w1 = w1_list[0]\n",
    "for w_i in w1_list[1:]:\n",
    "    tot_w1 += 2*w_i\n",
    "    \n",
    "print(tot_w1)\n",
    "\n",
    "assert(ecc_dist <= tot_w1)"
   ]
  },
  {
   "cell_type": "code",
   "execution_count": null,
   "metadata": {},
   "outputs": [],
   "source": []
  },
  {
   "cell_type": "code",
   "execution_count": null,
   "metadata": {},
   "outputs": [],
   "source": []
  },
  {
   "cell_type": "markdown",
   "metadata": {},
   "source": [
    "# example 2"
   ]
  },
  {
   "cell_type": "code",
   "execution_count": null,
   "metadata": {},
   "outputs": [],
   "source": []
  },
  {
   "cell_type": "code",
   "execution_count": 13,
   "metadata": {},
   "outputs": [
    {
     "name": "stdout",
     "output_type": "stream",
     "text": [
      "\t simplicies found:           127\n",
      "\t points in the ecc plot:     9\n"
     ]
    },
    {
     "data": {
      "image/png": "[encoded data removed]",
      "text/plain": [
       "<Figure size 432x288 with 1 Axes>"
      ]
     },
     "metadata": {
      "needs_background": "light"
     },
     "output_type": "display_data"
    }
   ],
   "source": [
    "epsilon = 10\n",
    "\n",
    "point_cloud_1 = np.array([[0,0], [2,-0.2], [4,0.2], [0,-1.5], [2,-3], [4,-1], [3.8,-2.5]] )\n",
    "\n",
    "rips_complex_1 = gd.RipsComplex(points=point_cloud_1, max_edge_length=epsilon)\n",
    "simplex_tree_1 = rips_complex_1.create_simplex_tree(max_dimension=len(point_cloud_1)-1)\n",
    "\n",
    "\n",
    "\n",
    "\n",
    "c_1, ns_1 = compute_ECC_from_simplextree(simplex_tree_1)\n",
    "print(\"\\t simplicies found:          \", ns_1)\n",
    "\n",
    "ecc_1 = ecc_utils.euler_characteristic_list_from_all(c_1)\n",
    "print(\"\\t points in the ecc plot:    \", len(ecc_1))\n",
    "\n",
    "ecc_utils.plot_euler_curve(ecc_1, True, \"ECC\")\n",
    "\n",
    "simplex_tree_1.compute_persistence(persistence_dim_max=True, min_persistence=-1)"
   ]
  },
  {
   "cell_type": "code",
   "execution_count": 14,
   "metadata": {},
   "outputs": [
    {
     "name": "stdout",
     "output_type": "stream",
     "text": [
      "\t simplicies found:           127\n",
      "\t points in the ecc plot:     9\n"
     ]
    },
    {
     "data": {
      "image/png": "[encoded data removed]",
      "text/plain": [
       "<Figure size 432x288 with 1 Axes>"
      ]
     },
     "metadata": {
      "needs_background": "light"
     },
     "output_type": "display_data"
    }
   ],
   "source": [
    "epsilon = 10\n",
    "\n",
    "point_cloud_2 = point_cloud_1 * 1.1\n",
    "\n",
    "rips_complex_2 = gd.RipsComplex(points=point_cloud_2, max_edge_length=epsilon)\n",
    "simplex_tree_2 = rips_complex_2.create_simplex_tree(max_dimension=len(point_cloud_2)-1)\n",
    "\n",
    "simplex_tree_2.compute_persistence(persistence_dim_max=True, min_persistence=-1)    \n",
    "    \n",
    "c_2, ns_2 = compute_ECC_from_simplextree(simplex_tree_2)\n",
    "print(\"\\t simplicies found:          \", ns_2)\n",
    "\n",
    "ecc_2 = ecc_utils.euler_characteristic_list_from_all(c_2)\n",
    "print(\"\\t points in the ecc plot:    \", len(ecc_2))\n",
    "\n",
    "ecc_utils.plot_euler_curve(ecc_2, True, \"ECC\")"
   ]
  },
  {
   "cell_type": "code",
   "execution_count": 15,
   "metadata": {},
   "outputs": [
    {
     "name": "stdout",
     "output_type": "stream",
     "text": [
      "1.545943881867658\n"
     ]
    }
   ],
   "source": [
    "ecc_dist = ecc_utils.difference_ECC(ecc_1, ecc_2, 10)\n",
    "print(ecc_dist)"
   ]
  },
  {
   "cell_type": "code",
   "execution_count": 16,
   "metadata": {},
   "outputs": [
    {
     "name": "stdout",
     "output_type": "stream",
     "text": [
      "1.5787865943422765\n"
     ]
    }
   ],
   "source": [
    "w1_list = []\n",
    "\n",
    "for i in range(len(point_cloud_1)):\n",
    "    \n",
    "    X = np.array([p for p in simplex_tree_1.persistence_intervals_in_dimension(i) if p[1] != np.inf])\n",
    "    Y = np.array([p for p in simplex_tree_2.persistence_intervals_in_dimension(i) if p[1] != np.inf])\n",
    "    \n",
    "    w1_list.append(gudhi.wasserstein.wasserstein_distance(X, Y))\n",
    "\n",
    "tot_w1 = w1_list[0]\n",
    "for w_i in w1_list[1:]:\n",
    "    tot_w1 += 2*w_i\n",
    "    \n",
    "print(tot_w1)\n",
    "\n",
    "assert(ecc_dist <= tot_w1)"
   ]
  },
  {
   "cell_type": "code",
   "execution_count": null,
   "metadata": {},
   "outputs": [],
   "source": []
  },
  {
   "cell_type": "code",
   "execution_count": null,
   "metadata": {},
   "outputs": [],
   "source": []
  },
  {
   "cell_type": "code",
   "execution_count": null,
   "metadata": {},
   "outputs": [],
   "source": []
  },
  {
   "cell_type": "markdown",
   "metadata": {},
   "source": [
    "# circle"
   ]
  },
  {
   "cell_type": "code",
   "execution_count": 95,
   "metadata": {},
   "outputs": [],
   "source": [
    "epsilon = 10\n",
    "NUMBER_OF_POINTS = 20\n",
    "NUMBER_OF_POINTS_2 = 10"
   ]
  },
  {
   "cell_type": "code",
   "execution_count": 96,
   "metadata": {},
   "outputs": [
    {
     "name": "stdout",
     "output_type": "stream",
     "text": [
      "\t simplicies found:           1048575\n",
      "\t points in the ecc plot:     30\n",
      "CPU times: user 11.2 s, sys: 141 ms, total: 11.4 s\n",
      "Wall time: 13.3 s\n"
     ]
    },
    {
     "data": {
      "image/png": "[encoded data removed]",
      "text/plain": [
       "<Figure size 432x288 with 1 Axes>"
      ]
     },
     "metadata": {
      "needs_background": "light"
     },
     "output_type": "display_data"
    }
   ],
   "source": [
    "%%time\n",
    "point_cloud_1 = []\n",
    "\n",
    "random.seed(42)\n",
    "for i in range(NUMBER_OF_POINTS):\n",
    "    angle = random.uniform(0,2*np.pi)\n",
    "    point_cloud_1.append([np.cos(angle), np.sin(angle)])\n",
    "    \n",
    "point_cloud_1 = np.array(point_cloud_1)\n",
    "\n",
    "rips_complex_1 = gd.RipsComplex(points=point_cloud_1, max_edge_length=epsilon)\n",
    "simplex_tree_1 = rips_complex_1.create_simplex_tree(max_dimension=len(point_cloud_1)-1)\n",
    "\n",
    "\n",
    "c_1, ns_1 = compute_ECC_from_simplextree(simplex_tree_1)\n",
    "print(\"\\t simplicies found:          \", ns_1)\n",
    "\n",
    "ecc_1 = ecc_utils.euler_characteristic_list_from_all(c_1)\n",
    "print(\"\\t points in the ecc plot:    \", len(ecc_1))\n",
    "\n",
    "ecc_utils.plot_euler_curve(ecc_1, True, \"ECC\")\n",
    "\n",
    "simplex_tree_1.compute_persistence(persistence_dim_max=True, min_persistence=-1)"
   ]
  },
  {
   "cell_type": "code",
   "execution_count": 97,
   "metadata": {},
   "outputs": [
    {
     "name": "stdout",
     "output_type": "stream",
     "text": [
      "\t simplicies found:           1023\n",
      "\t points in the ecc plot:     14\n",
      "CPU times: user 86.3 ms, sys: 4.6 ms, total: 90.9 ms\n",
      "Wall time: 106 ms\n"
     ]
    },
    {
     "data": {
      "image/png": "[encoded data removed]",
      "text/plain": [
       "<Figure size 432x288 with 1 Axes>"
      ]
     },
     "metadata": {
      "needs_background": "light"
     },
     "output_type": "display_data"
    }
   ],
   "source": [
    "%%time\n",
    "point_cloud_2 = []\n",
    "\n",
    "random.seed(66)\n",
    "for i in range(NUMBER_OF_POINTS_2):\n",
    "    angle = random.uniform(0,2*np.pi)\n",
    "    point_cloud_2.append([np.cos(angle), np.sin(angle)])\n",
    "    \n",
    "point_cloud_2 = np.array(point_cloud_2)\n",
    "\n",
    "rips_complex_2 = gd.RipsComplex(points=point_cloud_2, max_edge_length=epsilon)\n",
    "simplex_tree_2 = rips_complex_2.create_simplex_tree(max_dimension=len(point_cloud_2)-1)\n",
    "\n",
    "\n",
    "c_2, ns_2 = compute_ECC_from_simplextree(simplex_tree_2)\n",
    "print(\"\\t simplicies found:          \", ns_2)\n",
    "\n",
    "ecc_2 = ecc_utils.euler_characteristic_list_from_all(c_2)\n",
    "print(\"\\t points in the ecc plot:    \", len(ecc_2))\n",
    "\n",
    "ecc_utils.plot_euler_curve(ecc_2, True, \"ECC\")\n",
    "\n",
    "simplex_tree_2.compute_persistence(persistence_dim_max=True, min_persistence=-1)"
   ]
  },
  {
   "cell_type": "code",
   "execution_count": 98,
   "metadata": {},
   "outputs": [
    {
     "data": {
      "text/plain": [
       "[1.961022421160457, 1]"
      ]
     },
     "execution_count": 98,
     "metadata": {},
     "output_type": "execute_result"
    }
   ],
   "source": [
    "ecc_1[-1] "
   ]
  },
  {
   "cell_type": "code",
   "execution_count": 99,
   "metadata": {},
   "outputs": [
    {
     "data": {
      "text/plain": [
       "[1.9304359480213305, 1]"
      ]
     },
     "execution_count": 99,
     "metadata": {},
     "output_type": "execute_result"
    }
   ],
   "source": [
    "ecc_2[-1]"
   ]
  },
  {
   "cell_type": "code",
   "execution_count": 100,
   "metadata": {},
   "outputs": [
    {
     "name": "stdout",
     "output_type": "stream",
     "text": [
      "3.423837412060018\n"
     ]
    }
   ],
   "source": [
    "ecc_dist = ecc_utils.difference_ECC(ecc_1, ecc_2, 10)\n",
    "print(ecc_dist)"
   ]
  },
  {
   "cell_type": "code",
   "execution_count": 102,
   "metadata": {
    "scrolled": true
   },
   "outputs": [
    {
     "data": {
      "application/vnd.jupyter.widget-view+json": {
       "model_id": "2422e238e9c6486b8aba1b5980af4d0f",
       "version_major": 2,
       "version_minor": 0
      },
      "text/plain": [
       "  0%|          | 0/20 [00:00<?, ?it/s]"
      ]
     },
     "metadata": {},
     "output_type": "display_data"
    },
    {
     "name": "stdout",
     "output_type": "stream",
     "text": [
      "0 19 9\n",
      "1 1 1\n",
      "2 2 1\n",
      "3 1 0\n",
      "4 1 0\n",
      "5 0 0\n",
      "6 0 0\n",
      "7 0 0\n",
      "8 0 0\n",
      "9 0 0\n",
      "10 0 0\n",
      "11 0 0\n",
      "12 0 0\n",
      "13 0 0\n",
      "14 0 0\n",
      "15 0 0\n",
      "16 0 0\n",
      "17 0 0\n",
      "18 0 0\n",
      "19 0 0\n",
      "5.004482712995815\n"
     ]
    }
   ],
   "source": [
    "w1_list = []\n",
    "\n",
    "for i in tqdm(range(max(simplex_tree_1.dimension(), simplex_tree_2.dimension()) + 1)):\n",
    "    \n",
    "    X = np.array([p for p in simplex_tree_1.persistence_intervals_in_dimension(i) if (p[1]!=np.inf) and (p[0]!=p[1])])\n",
    "    Y = np.array([p for p in simplex_tree_2.persistence_intervals_in_dimension(i) if (p[1]!=np.inf) and (p[0]!=p[1])])\n",
    "    \n",
    "    print(i, len(X), len(Y))\n",
    "\n",
    "    \n",
    "    w1_list.append(gudhi.wasserstein.wasserstein_distance(X, Y))\n",
    "\n",
    "tot_w1 = 0\n",
    "for w_i in w1_list:\n",
    "    tot_w1 += 2*w_i\n",
    "    \n",
    "print(tot_w1)\n",
    "\n",
    "assert(ecc_dist <= tot_w1)"
   ]
  },
  {
   "cell_type": "code",
   "execution_count": null,
   "metadata": {},
   "outputs": [],
   "source": []
  },
  {
   "cell_type": "code",
   "execution_count": null,
   "metadata": {},
   "outputs": [],
   "source": []
  },
  {
   "cell_type": "markdown",
   "metadata": {},
   "source": [
    "# BOX"
   ]
  },
  {
   "cell_type": "code",
   "execution_count": 86,
   "metadata": {},
   "outputs": [],
   "source": [
    "epsilon = 100\n",
    "NUMBER_OF_POINTS = 20\n",
    "NUMBER_OF_POINTS_2 = 5\n",
    "# random points in the unit cube\n",
    "\n",
    "DIMENSION = 3"
   ]
  },
  {
   "cell_type": "code",
   "execution_count": 87,
   "metadata": {},
   "outputs": [
    {
     "name": "stdout",
     "output_type": "stream",
     "text": [
      "\t simplicies found:           1048575\n",
      "\t points in the ecc plot:     28\n",
      "CPU times: user 11.2 s, sys: 120 ms, total: 11.4 s\n",
      "Wall time: 12.8 s\n"
     ]
    },
    {
     "data": {
      "image/png": "[encoded data removed]",
      "text/plain": [
       "<Figure size 432x288 with 1 Axes>"
      ]
     },
     "metadata": {
      "needs_background": "light"
     },
     "output_type": "display_data"
    }
   ],
   "source": [
    "%%time\n",
    "np.random.seed(42)\n",
    "\n",
    "point_cloud_1 = np.random.rand(NUMBER_OF_POINTS,DIMENSION)\n",
    "\n",
    "rips_complex_1 = gd.RipsComplex(points=point_cloud_1, max_edge_length=epsilon)\n",
    "simplex_tree_1 = rips_complex_1.create_simplex_tree(max_dimension=len(point_cloud_1)-1)\n",
    "\n",
    "\n",
    "c_1, ns_1 = compute_ECC_from_simplextree(simplex_tree_1)\n",
    "print(\"\\t simplicies found:          \", ns_1)\n",
    "\n",
    "ecc_1 = ecc_utils.euler_characteristic_list_from_all(c_1)\n",
    "print(\"\\t points in the ecc plot:    \", len(ecc_1))\n",
    "\n",
    "ecc_utils.plot_euler_curve(ecc_1, True, \"ECC\")\n",
    "\n",
    "simplex_tree_1.compute_persistence(persistence_dim_max=True, min_persistence=-1)"
   ]
  },
  {
   "cell_type": "code",
   "execution_count": 88,
   "metadata": {},
   "outputs": [
    {
     "name": "stdout",
     "output_type": "stream",
     "text": [
      "\t simplicies found:           31\n",
      "\t points in the ecc plot:     5\n",
      "CPU times: user 246 ms, sys: 5.42 ms, total: 252 ms\n",
      "Wall time: 299 ms\n"
     ]
    },
    {
     "data": {
      "image/png": "[encoded data removed]",
      "text/plain": [
       "<Figure size 432x288 with 1 Axes>"
      ]
     },
     "metadata": {
      "needs_background": "light"
     },
     "output_type": "display_data"
    }
   ],
   "source": [
    "%%time\n",
    "random.seed(66)\n",
    "\n",
    "point_cloud_2 = np.random.rand(NUMBER_OF_POINTS_2,DIMENSION)\n",
    "\n",
    "rips_complex_2 = gd.RipsComplex(points=point_cloud_2, max_edge_length=epsilon)\n",
    "simplex_tree_2 = rips_complex_2.create_simplex_tree(max_dimension=len(point_cloud_2)-1)\n",
    "\n",
    "\n",
    "c_2, ns_2 = compute_ECC_from_simplextree(simplex_tree_2)\n",
    "print(\"\\t simplicies found:          \", ns_2)\n",
    "\n",
    "ecc_2 = ecc_utils.euler_characteristic_list_from_all(c_2)\n",
    "print(\"\\t points in the ecc plot:    \", len(ecc_2))\n",
    "\n",
    "ecc_utils.plot_euler_curve(ecc_2, True, \"ECC\")\n",
    "\n",
    "simplex_tree_2.compute_persistence(persistence_dim_max=True, min_persistence=-1)"
   ]
  },
  {
   "cell_type": "code",
   "execution_count": 89,
   "metadata": {},
   "outputs": [],
   "source": [
    "# ecc_1_norm = []\n",
    "\n",
    "# for  ec in ecc_1:\n",
    "#     ecc_1_norm.append([ec[0], ec[1] / NUMBER_OF_POINTS])"
   ]
  },
  {
   "cell_type": "code",
   "execution_count": 90,
   "metadata": {},
   "outputs": [],
   "source": [
    "# ecc_2_norm = []\n",
    "\n",
    "# for ec in ecc_2:\n",
    "#     ecc_2_norm.append([ec[0], ec[1] / NUMBER_OF_POINTS_2])"
   ]
  },
  {
   "cell_type": "code",
   "execution_count": 91,
   "metadata": {},
   "outputs": [
    {
     "name": "stdout",
     "output_type": "stream",
     "text": [
      "4.680372848766966\n"
     ]
    }
   ],
   "source": [
    "ecc_dist = ecc_utils.difference_ECC(ecc_1, ecc_2, 10)\n",
    "print(ecc_dist)"
   ]
  },
  {
   "cell_type": "code",
   "execution_count": null,
   "metadata": {},
   "outputs": [],
   "source": []
  },
  {
   "cell_type": "code",
   "execution_count": 92,
   "metadata": {},
   "outputs": [],
   "source": [
    "# ecc_utils.plot_euler_curve(ecc_1_norm, True, \"ECC\")\n",
    "# ecc_utils.plot_euler_curve(ecc_2_norm, True, \"ECC\")"
   ]
  },
  {
   "cell_type": "code",
   "execution_count": 93,
   "metadata": {},
   "outputs": [],
   "source": [
    "# ecc_NORM_dist = ecc_utils.difference_ECC(ecc_1_norm, ecc_2_norm, 10)\n",
    "# print(ecc_NORM_dist)"
   ]
  },
  {
   "cell_type": "code",
   "execution_count": 94,
   "metadata": {
    "scrolled": true
   },
   "outputs": [
    {
     "data": {
      "application/vnd.jupyter.widget-view+json": {
       "model_id": "84b2d64aa5274c7eac6d3b54f4d33b9a",
       "version_major": 2,
       "version_minor": 0
      },
      "text/plain": [
       "  0%|          | 0/20 [00:00<?, ?it/s]"
      ]
     },
     "metadata": {},
     "output_type": "display_data"
    },
    {
     "name": "stdout",
     "output_type": "stream",
     "text": [
      "0 19 4\n",
      "1 4 0\n",
      "2 0 0\n",
      "3 0 0\n",
      "4 0 0\n",
      "5 0 0\n",
      "6 0 0\n",
      "7 0 0\n",
      "8 0 0\n",
      "9 0 0\n",
      "10 0 0\n",
      "11 0 0\n",
      "12 0 0\n",
      "13 0 0\n",
      "14 0 0\n",
      "15 0 0\n",
      "16 0 0\n",
      "17 0 0\n",
      "18 0 0\n",
      "19 0 0\n",
      "\n",
      "5.6322088564506005\n"
     ]
    }
   ],
   "source": [
    "w1_list = []\n",
    "w1_NORM_list = []\n",
    "\n",
    "\n",
    "for i in tqdm(range(max(simplex_tree_1.dimension(), simplex_tree_2.dimension()) + 1)):\n",
    "    \n",
    "    X = np.array([p for p in simplex_tree_1.persistence_intervals_in_dimension(i) if (p[1]!=np.inf) and (p[0]!=p[1])])\n",
    "    Y = np.array([p for p in simplex_tree_2.persistence_intervals_in_dimension(i) if (p[1]!=np.inf) and (p[0]!=p[1])])\n",
    "    \n",
    "    print(i, len(X), len(Y))\n",
    "\n",
    "    \n",
    "    w1_list.append(gudhi.wasserstein.wasserstein_distance(X, Y))\n",
    "    \n",
    "    #w1_NORM_list.append(gudhi.wasserstein.wasserstein_distance(X, Y) / min(NUMBER_OF_POINTS, NUMBER_OF_POINTS_2))\n",
    "\n",
    "tot_w1 = 2*w1_list[0]\n",
    "for w_i in w1_list[1:]:\n",
    "    tot_w1 += 2*w_i  \n",
    "\n",
    "# tot_w1_NORM = 2*w1_NORM_list[0]\n",
    "# for w_i in w1_NORM_list[1:]:\n",
    "#     tot_w1_NORM += 2*w_i  \n",
    "    \n",
    "print()\n",
    "print(tot_w1)\n",
    "# print(tot_w1_NORM)\n",
    "\n",
    "# assert(ecc_NORM_dist <= tot_w1_NORM)\n",
    "assert(ecc_dist <= tot_w1)\n"
   ]
  },
  {
   "cell_type": "code",
   "execution_count": 66,
   "metadata": {},
   "outputs": [
    {
     "data": {
      "text/plain": [
       "0.5"
      ]
     },
     "execution_count": 66,
     "metadata": {},
     "output_type": "execute_result"
    }
   ],
   "source": [
    "gudhi.wasserstein.wasserstein_distance(np.array([]), np.array([[1, 2]]))"
   ]
  },
  {
   "cell_type": "code",
   "execution_count": null,
   "metadata": {},
   "outputs": [],
   "source": []
  }
 ],
 "metadata": {
  "colab": {
   "machine_shape": "hm",
   "name": "euler.ipynb",
   "provenance": []
  },
  "kernelspec": {
   "display_name": "Python 3",
   "language": "python",
   "name": "python3"
  },
  "language_info": {
   "codemirror_mode": {
    "name": "ipython",
    "version": 3
   },
   "file_extension": ".py",
   "mimetype": "text/x-python",
   "name": "python",
   "nbconvert_exporter": "python",
   "pygments_lexer": "ipython3",
   "version": "3.8.6"
  }
 },
 "nbformat": 4,
 "nbformat_minor": 1
}
