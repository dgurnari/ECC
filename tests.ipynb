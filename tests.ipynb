{
 "cells": [
  {
   "cell_type": "code",
   "execution_count": null,
   "metadata": {
    "colab": {},
    "colab_type": "code",
    "id": "ot949Bzu-J-z"
   },
   "outputs": [],
   "source": [
    "import numpy as np\n",
    "from matplotlib import pyplot as plt\n",
    "import random\n",
    "import gudhi as gd\n",
    "import itertools\n",
    "\n",
    "#import igraph as ig\n",
    "\n",
    "import tadasets\n",
    "from datetime import datetime\n",
    "\n",
    "import ecc\n",
    "import ecc_plot\n",
    "import euler_edges\n",
    "import ecc_extend_clique\n",
    "import cliques_counting as cc\n",
    "#import cliques_counting_igraph as cc_ig"
   ]
  },
  {
   "cell_type": "code",
   "execution_count": null,
   "metadata": {},
   "outputs": [],
   "source": [
    "%load_ext memory_profiler\n",
    "%load_ext line_profiler"
   ]
  },
  {
   "cell_type": "code",
   "execution_count": null,
   "metadata": {},
   "outputs": [],
   "source": [
    "def compare_methods(points, epsilon, draw_lines=True):\n",
    "    # ECC\n",
    "    print(\"Local Simplex\")\n",
    "    start=datetime.now()\n",
    "    c_ls, ns_ls = ecc.compute_local_contributions(points, epsilon)\n",
    "    print(\"\\t time:\", datetime.now()-start)\n",
    "    print(\"\\t contributions list lenght: \", len(c_ls))\n",
    "     \n",
    "    e_ls = ecc_plot.euler_characteristic_list_from_all(c_ls)\n",
    "    print(\"\\t simplicies found:          \", ns_ls)\n",
    "    print(\"\\t points in the ecc plot:    \", len(e_ls))\n",
    "    \n",
    "    ecc_plot.plot_euler_curve(e_ls, draw_lines, \"Local Simplex\")\n",
    "    \n",
    "#     # cliques counting\n",
    "#     print(\"\\n Cliques counting\")\n",
    "#     start=datetime.now()\n",
    "#     c, ns = cc.compute_all_contributions_nx(points, epsilon)\n",
    "#     print(\"\\t time:\", datetime.now()-start)\n",
    "#     print(\"\\t contributions list lenght: \", len(c))\n",
    "    \n",
    "#     e_cc = ecc_plot.euler_characteristic_list_from_all(c)\n",
    "#     print(\"\\t simplicies found:          \", ns)\n",
    "#     print(\"\\t points in the ecc plot:    \", len(e_cc))\n",
    "    \n",
    "#     ecc_plot.plot_euler_curve(e_cc, draw_lines, \"Cliques counting\")\n",
    "    \n",
    "    \n",
    "    \n",
    "        # extend cliques\n",
    "    print(\"\\nExtend clique\")\n",
    "    start=datetime.now()\n",
    "    c = ecc_extend_clique.ECC_recursive(points, epsilon)\n",
    "    print(\"\\t time:\", datetime.now()-start)\n",
    "    # the number of simplicies is equal to contributions list lenght\n",
    "    print(\"\\t simplicies found: \", len(c))\n",
    "    \n",
    "    e_cc = ecc_plot.euler_characteristic_list_from_all(c)\n",
    "    print(\"\\t points in the ecc plot:    \", len(e_cc))\n",
    "    \n",
    "    ecc_plot.plot_euler_curve(e_cc, draw_lines, \"Extend clique\")\n",
    "    \n",
    "    \n",
    "    # extend cliques\n",
    "#     print(\"\\n Extend clique NX\")\n",
    "#     start=datetime.now()\n",
    "#     c = ecc_extend_clique.ECC_recursive_NX(points, epsilon)\n",
    "#     print(\"\\t time:\", datetime.now()-start)\n",
    "#     print(\"\\t contributions list lenght: \", len(c))\n",
    "    \n",
    "#     e_cc = ecc_plot.euler_characteristic_list_from_all(c)\n",
    "#     print(\"\\t points in the ecc plot:    \", len(e_cc))\n",
    "    \n",
    "#     ecc_plot.plot_euler_curve(e_cc, draw_lines, \"Extend clique\")\n",
    "    \n",
    "    \n",
    "    # cliques counting igraph\n",
    "#     print(\"\\n Cliques counting igraph\")\n",
    "#     start=datetime.now()\n",
    "#     c_ig, ns_ig = cc_ig.compute_all_contributions_ig(points, epsilon)\n",
    "#     print(\"\\t time:\", datetime.now()-start)\n",
    "#     print(\"\\t contributions list lenght: \", len(c))\n",
    "    \n",
    "#     e_cc_ig = ecc_plot.euler_characteristic_list_from_all(c_ig)\n",
    "#     print(\"\\t simplicies found:          \", ns_ig)\n",
    "#     print(\"\\t points in the ecc plot:    \", len(e_cc_ig))\n",
    "    \n",
    "#     ecc_plot.plot_euler_curve(e_cc_ig, draw_lines, \"Cliques counting\")\n",
    "    \n",
    "    #assert((e == e_cc).all())\n",
    "    \n",
    "    \n",
    "#     # edges\n",
    "#     print(\"\\n Edges\")\n",
    "#     start=datetime.now()\n",
    "#     c = euler_edges.compute_local_contributions_gd(points, epsilon)\n",
    "#     print(\"\\t time:\", datetime.now()-start)\n",
    "#     print(\"\\t contributions list lenght: \", len(c))\n",
    "    \n",
    "#     e_ee = euler_edges.euler_characteristic_list_from_edges(c)\n",
    "#     print(\"\\t points in the ecc plot:    \", len(e_ee))\n",
    "#     ecc_plot.plot_euler_curve(e_ee, draw_lines, \"Edges\")    \n",
    "    \n",
    "#     # full simplex\n",
    "#     print(\"\\n Full simplex\")\n",
    "#     start=datetime.now()\n",
    "#     rips_complex = gd.RipsComplex(points=points, max_edge_length=epsilon)\n",
    "#     simplex_tree = rips_complex.create_simplex_tree(max_dimension=len(points))\n",
    "    \n",
    "#     c_full = simplex_tree.get_filtration()\n",
    "    \n",
    "#     print(\"\\t time:\", datetime.now()-start)\n",
    "#     print(\"\\t contributions list lenght: \", len(c_full))\n",
    "    \n",
    "#     e_full = ecc_plot.euler_characteristic_list_from_all(c_full)\n",
    "#     print(\"\\t points in the ecc plot:    \", len(e_full))\n",
    "    \n",
    "#     ecc_plot.plot_euler_curve(e_full, draw_lines, \"Full Simplex\")"
   ]
  },
  {
   "cell_type": "markdown",
   "metadata": {
    "colab_type": "text",
    "id": "unwBzt1h5WcX"
   },
   "source": [
    "# TEST"
   ]
  },
  {
   "cell_type": "markdown",
   "metadata": {},
   "source": [
    "## Triangle"
   ]
  },
  {
   "cell_type": "code",
   "execution_count": null,
   "metadata": {},
   "outputs": [],
   "source": [
    "point_cloud = np.array([[0, 0], [4,0], [0,3] ])"
   ]
  },
  {
   "cell_type": "code",
   "execution_count": null,
   "metadata": {},
   "outputs": [],
   "source": [
    "plt.scatter(point_cloud[: , 0], point_cloud[: , 1])"
   ]
  },
  {
   "cell_type": "code",
   "execution_count": null,
   "metadata": {},
   "outputs": [],
   "source": [
    "compare_methods(point_cloud, 10)"
   ]
  },
  {
   "cell_type": "markdown",
   "metadata": {
    "colab_type": "text",
    "id": "-iuN2jTm5lTI"
   },
   "source": [
    "## Rhomboid"
   ]
  },
  {
   "cell_type": "code",
   "execution_count": null,
   "metadata": {
    "colab": {},
    "colab_type": "code",
    "id": "uMk5CYwI5Ywx"
   },
   "outputs": [],
   "source": [
    "point_cloud = np.array([[4,0], [0,3.5], [-2, 0], [-0.5, -3]])"
   ]
  },
  {
   "cell_type": "code",
   "execution_count": null,
   "metadata": {
    "colab": {
     "base_uri": "https://localhost:8080/",
     "height": 265
    },
    "colab_type": "code",
    "id": "kq1AtkwK5yqq",
    "outputId": "2e0c34eb-3be5-4f47-a9e9-820e79d2ac36"
   },
   "outputs": [],
   "source": [
    "plt.axis('equal')\n",
    "labels = [\"A\", \"B\", \"C\", \"D\"]\n",
    "for i in range(len(point_cloud)):\n",
    "    plt.scatter(point_cloud[i][0], point_cloud[i][1], color = \"red\")\n",
    "    plt.text(point_cloud[i][0], point_cloud[i][1], labels[i], fontsize =15)\n"
   ]
  },
  {
   "cell_type": "code",
   "execution_count": null,
   "metadata": {},
   "outputs": [],
   "source": [
    "compare_methods(point_cloud, 10)"
   ]
  },
  {
   "cell_type": "markdown",
   "metadata": {
    "colab_type": "text",
    "id": "AnfPIQrn55Pq"
   },
   "source": [
    "## Tetrahedron"
   ]
  },
  {
   "cell_type": "code",
   "execution_count": null,
   "metadata": {
    "colab": {},
    "colab_type": "code",
    "id": "aIplwllL50tB"
   },
   "outputs": [],
   "source": [
    "point_cloud = np.array([[0,0,0], [0,1,0], [2,0,0], [0,0,3]])"
   ]
  },
  {
   "cell_type": "code",
   "execution_count": null,
   "metadata": {
    "colab": {
     "base_uri": "https://localhost:8080/",
     "height": 265
    },
    "colab_type": "code",
    "id": "vvDQGPG151E9",
    "outputId": "589b5b04-7b7e-47d0-e015-0b41773b1521"
   },
   "outputs": [],
   "source": [
    "from mpl_toolkits.mplot3d import Axes3D\n",
    "\n",
    "fig = plt.figure()\n",
    "ax = fig.add_subplot(111, projection='3d')\n",
    "ax.scatter([x[0] for x in point_cloud], [x[1] for x in point_cloud], [x[2] for x in point_cloud])"
   ]
  },
  {
   "cell_type": "code",
   "execution_count": null,
   "metadata": {},
   "outputs": [],
   "source": [
    "compare_methods(point_cloud, 10)"
   ]
  },
  {
   "cell_type": "markdown",
   "metadata": {
    "colab_type": "text",
    "id": "CE9yxTZL6DIr"
   },
   "source": [
    "## Points from the example in the slides\n",
    "\n"
   ]
  },
  {
   "cell_type": "code",
   "execution_count": null,
   "metadata": {
    "colab": {},
    "colab_type": "code",
    "id": "lSh58ysq6EGP"
   },
   "outputs": [],
   "source": [
    "point_cloud = np.array([[0,0], [2,-0.2], [4,0.2], [0,-1.5], [2,-3], [4,-1], [3.8,-2.5]] )"
   ]
  },
  {
   "cell_type": "code",
   "execution_count": null,
   "metadata": {
    "colab": {
     "base_uri": "https://localhost:8080/",
     "height": 320
    },
    "colab_type": "code",
    "id": "A6mi7vJp6FLS",
    "outputId": "195485ae-7ecf-4fc4-a0df-586ea9de6b76"
   },
   "outputs": [],
   "source": [
    "plt.figure(figsize=(10,5))\n",
    "plt.axis('equal')\n",
    "for i in range(len(point_cloud)):\n",
    "    plt.scatter(point_cloud[i][0], point_cloud[i][1], color = \"blue\")\n",
    "    plt.text(point_cloud[i][0], point_cloud[i][1], i)"
   ]
  },
  {
   "cell_type": "code",
   "execution_count": null,
   "metadata": {},
   "outputs": [],
   "source": [
    "compare_methods(point_cloud, 10)"
   ]
  },
  {
   "cell_type": "markdown",
   "metadata": {},
   "source": [
    "<br>\n",
    "<br>\n",
    "<br>\n",
    "<br>\n",
    "<br>\n",
    "<br>\n",
    "<br>\n",
    "<br>"
   ]
  },
  {
   "cell_type": "markdown",
   "metadata": {
    "colab_type": "text",
    "id": "yc3EQ-zS6nRw"
   },
   "source": [
    "# Circle"
   ]
  },
  {
   "cell_type": "code",
   "execution_count": null,
   "metadata": {
    "colab": {},
    "colab_type": "code",
    "id": "CIQrq9xi6ozo"
   },
   "outputs": [],
   "source": [
    "point_cloud = []\n",
    "\n",
    "NUMBER_OF_POINTS = 100\n",
    "\n",
    "random.seed(42)\n",
    "for i in range(NUMBER_OF_POINTS):\n",
    "    angle = random.uniform(0,2*np.pi)\n",
    "    point_cloud.append([np.cos(angle), np.sin(angle)])\n",
    "    \n",
    "point_cloud = np.array(point_cloud)\n",
    "\n",
    "np.savetxt('circle.csv', point_cloud, fmt='%f', delimiter=',')"
   ]
  },
  {
   "cell_type": "code",
   "execution_count": null,
   "metadata": {
    "colab": {
     "base_uri": "https://localhost:8080/",
     "height": 282
    },
    "colab_type": "code",
    "id": "dDoK_0Ld6pYF",
    "outputId": "d08d5936-7006-4d13-ce35-c708cbc51d13"
   },
   "outputs": [],
   "source": [
    "plt.axis('scaled')\n",
    "plt.xlim((-1.2,1.2))\n",
    "plt.ylim((-1.2,1.2))\n",
    "plt.scatter(point_cloud[:,0], point_cloud[:,1])"
   ]
  },
  {
   "cell_type": "code",
   "execution_count": null,
   "metadata": {},
   "outputs": [],
   "source": [
    "points = point_cloud\n",
    "epsilon = 0.5\n",
    "draw_lines = False"
   ]
  },
  {
   "cell_type": "code",
   "execution_count": null,
   "metadata": {},
   "outputs": [],
   "source": [
    "compare_methods(point_cloud, epsilon, draw_lines)"
   ]
  },
  {
   "cell_type": "code",
   "execution_count": null,
   "metadata": {},
   "outputs": [],
   "source": []
  },
  {
   "cell_type": "code",
   "execution_count": null,
   "metadata": {},
   "outputs": [],
   "source": []
  },
  {
   "cell_type": "code",
   "execution_count": null,
   "metadata": {},
   "outputs": [],
   "source": [
    "%memit ecc.compute_local_contributions(points, epsilon)"
   ]
  },
  {
   "cell_type": "code",
   "execution_count": null,
   "metadata": {},
   "outputs": [],
   "source": [
    "%memit ecc_extend_clique.ECC_recursive(points, epsilon)"
   ]
  },
  {
   "cell_type": "code",
   "execution_count": null,
   "metadata": {},
   "outputs": [],
   "source": [
    "#%memit ecc_extend_clique.ECC_recursive_NX(points, epsilon)"
   ]
  },
  {
   "cell_type": "code",
   "execution_count": null,
   "metadata": {},
   "outputs": [],
   "source": [
    "%mprun -f ecc.compute_local_contributions ecc.compute_local_contributions(points, epsilon)"
   ]
  },
  {
   "cell_type": "code",
   "execution_count": null,
   "metadata": {},
   "outputs": [],
   "source": [
    "%mprun -f ecc_extend_clique.ECC_prog ecc_extend_clique.ECC_prog(points, epsilon)"
   ]
  },
  {
   "cell_type": "code",
   "execution_count": null,
   "metadata": {},
   "outputs": [],
   "source": []
  },
  {
   "cell_type": "code",
   "execution_count": null,
   "metadata": {},
   "outputs": [],
   "source": [
    "%lprun -f ecc_extend_clique.ECC_recursive ecc_extend_clique.ECC_recursive(points, epsilon)"
   ]
  },
  {
   "cell_type": "code",
   "execution_count": null,
   "metadata": {},
   "outputs": [],
   "source": [
    "#create local graph\n",
    "edict, ndict = ecc_extend_clique.create_dicts(point_cloud, epsilon) "
   ]
  },
  {
   "cell_type": "code",
   "execution_count": null,
   "metadata": {},
   "outputs": [],
   "source": [
    "%lprun -f ecc_extend_clique.extend_clique ecc_extend_clique.extend_clique(clique=set([0]), \\\n",
    "                                       neighbors=set(ndict[0]), \\\n",
    "                                       filtration=0, \\\n",
    "                                       edict=edict,\\\n",
    "                                       ndict=ndict,\\\n",
    "                                       contributions_list=[]) "
   ]
  },
  {
   "cell_type": "code",
   "execution_count": null,
   "metadata": {},
   "outputs": [],
   "source": []
  },
  {
   "cell_type": "markdown",
   "metadata": {},
   "source": [
    "<br>\n",
    "<br>\n",
    "<br>\n",
    "<br>\n",
    "<br>\n",
    "<br>\n",
    "<br>\n",
    "<br>"
   ]
  },
  {
   "cell_type": "markdown",
   "metadata": {},
   "source": [
    "## Double circle"
   ]
  },
  {
   "cell_type": "code",
   "execution_count": null,
   "metadata": {},
   "outputs": [],
   "source": [
    "point_cloud = []\n",
    "\n",
    "NUMBER_OF_POINTS = 100\n",
    "\n",
    "random.seed(42)\n",
    "for i in range(NUMBER_OF_POINTS):\n",
    "    angle = random.uniform(0,2*np.pi)\n",
    "    point_cloud.append([np.cos(angle), np.sin(angle)])\n",
    "    \n",
    "    angle = random.uniform(0,2*np.pi)\n",
    "    point_cloud.append([2*np.cos(angle), 5*np.sin(angle)])\n",
    "    \n",
    "    \n",
    "point_cloud = np.array(point_cloud)"
   ]
  },
  {
   "cell_type": "code",
   "execution_count": null,
   "metadata": {},
   "outputs": [],
   "source": [
    "plt.scatter(point_cloud[:, 0], point_cloud[:, 1])"
   ]
  },
  {
   "cell_type": "code",
   "execution_count": null,
   "metadata": {},
   "outputs": [],
   "source": [
    "compare_methods(point_cloud, 1, draw_lines=False)"
   ]
  },
  {
   "cell_type": "code",
   "execution_count": null,
   "metadata": {},
   "outputs": [],
   "source": [
    "%memit ecc.compute_local_contributions(point_cloud, 1)"
   ]
  },
  {
   "cell_type": "code",
   "execution_count": null,
   "metadata": {},
   "outputs": [],
   "source": [
    "%memit ecc_extend_clique.ECC_recursive(point_cloud, 1)"
   ]
  },
  {
   "cell_type": "markdown",
   "metadata": {},
   "source": [
    "<br>\n",
    "<br>\n",
    "<br>\n",
    "<br>\n",
    "<br>\n",
    "<br>\n",
    "<br>\n",
    "<br>"
   ]
  },
  {
   "cell_type": "markdown",
   "metadata": {},
   "source": [
    "# infinity"
   ]
  },
  {
   "cell_type": "code",
   "execution_count": null,
   "metadata": {},
   "outputs": [],
   "source": [
    "point_cloud = tadasets.infty_sign(n=50, noise=None)\n",
    "\n",
    "np.savetxt('infinity.csv', point_cloud, fmt='%f', delimiter=',')"
   ]
  },
  {
   "cell_type": "code",
   "execution_count": null,
   "metadata": {},
   "outputs": [],
   "source": [
    "#plt.axis('scaled')\n",
    "plt.scatter(point_cloud[:, 0], point_cloud[:, 1])"
   ]
  },
  {
   "cell_type": "code",
   "execution_count": null,
   "metadata": {},
   "outputs": [],
   "source": [
    "compare_methods(point_cloud, 1)"
   ]
  },
  {
   "cell_type": "markdown",
   "metadata": {},
   "source": [
    "<br>\n",
    "<br>\n",
    "<br>\n",
    "<br>\n",
    "<br>\n",
    "<br>\n",
    "<br>\n",
    "<br>"
   ]
  },
  {
   "cell_type": "markdown",
   "metadata": {},
   "source": [
    "# n shpere"
   ]
  },
  {
   "cell_type": "code",
   "execution_count": null,
   "metadata": {},
   "outputs": [],
   "source": [
    "point_cloud = tadasets.sphere(n=100, r=1)\n",
    "\n",
    "fig = plt.figure()\n",
    "ax = fig.add_subplot(111, projection='3d')\n",
    "\n",
    "ax.scatter(point_cloud[:, 0], point_cloud[:, 1], point_cloud[:, 2])\n",
    "\n",
    "np.savetxt('sphere.csv', point_cloud, fmt='%f', delimiter=',')"
   ]
  },
  {
   "cell_type": "code",
   "execution_count": null,
   "metadata": {},
   "outputs": [],
   "source": [
    "compare_methods(point_cloud, .5, draw_lines=False)"
   ]
  },
  {
   "cell_type": "code",
   "execution_count": null,
   "metadata": {},
   "outputs": [],
   "source": [
    "# rounding error"
   ]
  },
  {
   "cell_type": "markdown",
   "metadata": {},
   "source": [
    "# torus"
   ]
  },
  {
   "cell_type": "code",
   "execution_count": null,
   "metadata": {},
   "outputs": [],
   "source": [
    "point_cloud = tadasets.torus(n=100, c=2, a=1)\n",
    "\n",
    "fig = plt.figure()\n",
    "ax = fig.add_subplot(111, projection='3d')\n",
    "\n",
    "ax.scatter(point_cloud[:, 0], point_cloud[:, 1], point_cloud[:, 2])\n",
    "\n",
    "np.savetxt('torus.csv', point_cloud, fmt='%f', delimiter=',')"
   ]
  },
  {
   "cell_type": "markdown",
   "metadata": {},
   "source": [
    "## Hypercube"
   ]
  },
  {
   "cell_type": "code",
   "execution_count": null,
   "metadata": {},
   "outputs": [],
   "source": [
    "# random points in the unit cube\n",
    "\n",
    "N_POINTS = 100\n",
    "DIMENSION = 3\n",
    "\n",
    "np.random.seed(42)\n",
    "point_cloud = np.random.rand(N_POINTS,DIMENSION)"
   ]
  },
  {
   "cell_type": "code",
   "execution_count": null,
   "metadata": {},
   "outputs": [],
   "source": [
    "compare_methods(point_cloud, 0.6, draw_lines=False)"
   ]
  },
  {
   "cell_type": "markdown",
   "metadata": {},
   "source": [
    "# GRID"
   ]
  },
  {
   "cell_type": "code",
   "execution_count": null,
   "metadata": {},
   "outputs": [],
   "source": [
    "def create_grid(dim, lenght):\n",
    "    # creates #dim arrays each of #lenght numbers at 0.1 distance\n",
    "    # then staks them together\n",
    "\n",
    "    return np.stack(np.meshgrid( *[[x/10 for x in range(lenght)] for i in range(dim)]  ), -1).reshape(-1, dim)"
   ]
  },
  {
   "cell_type": "code",
   "execution_count": null,
   "metadata": {},
   "outputs": [],
   "source": [
    "point_cloud = create_grid(4, 5)"
   ]
  },
  {
   "cell_type": "code",
   "execution_count": null,
   "metadata": {},
   "outputs": [],
   "source": [
    "compare_methods(point_cloud, 0.2)"
   ]
  },
  {
   "cell_type": "code",
   "execution_count": null,
   "metadata": {},
   "outputs": [],
   "source": []
  }
 ],
 "metadata": {
  "colab": {
   "machine_shape": "hm",
   "name": "euler.ipynb",
   "provenance": []
  },
  "kernelspec": {
   "display_name": "Python 3",
   "language": "python",
   "name": "python3"
  },
  "language_info": {
   "codemirror_mode": {
    "name": "ipython",
    "version": 3
   },
   "file_extension": ".py",
   "mimetype": "text/x-python",
   "name": "python",
   "nbconvert_exporter": "python",
   "pygments_lexer": "ipython3",
   "version": "3.8.6"
  }
 },
 "nbformat": 4,
 "nbformat_minor": 1
}
