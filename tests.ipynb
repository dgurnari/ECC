{
 "cells": [
  {
   "cell_type": "code",
   "execution_count": 2,
   "metadata": {
    "colab": {},
    "colab_type": "code",
    "id": "ot949Bzu-J-z"
   },
   "outputs": [],
   "source": [
    "import numpy as np\n",
    "from matplotlib import pyplot as plt\n",
    "import random\n",
    "import gudhi as gd\n",
    "import itertools\n",
    "\n",
    "import tadasets\n",
    "from datetime import datetime\n",
    "\n",
    "import ecc_gudhi\n",
    "import ecc_recursive\n",
    "import ecc_sequential\n",
    "import ecc_sequential_CPP\n",
    "import compute_local_EC\n",
    "import ecc_utils"
   ]
  },
  {
   "cell_type": "code",
   "execution_count": 3,
   "metadata": {},
   "outputs": [],
   "source": [
    "# https://anaconda.org/conda-forge/memory_profiler\n",
    "%load_ext memory_profiler"
   ]
  },
  {
   "cell_type": "code",
   "execution_count": 4,
   "metadata": {},
   "outputs": [],
   "source": [
    "%load_ext line_profiler"
   ]
  },
  {
   "cell_type": "markdown",
   "metadata": {},
   "source": [
    "### NOTE: the ECC plot obtained via ecc_recursive contains more points that the one obtained from ecc_gudhi because ecc_gudhi only outputs the points in wich the EC changes values and discards thoose when the sum of the contributions equals 0"
   ]
  },
  {
   "cell_type": "code",
   "execution_count": 2,
   "metadata": {},
   "outputs": [],
   "source": [
    "def compare_methods(points, epsilon, draw_lines=True):\n",
    "    # ECC\n",
    "    print(\"Star of the simplex - GUDHI\")\n",
    "    start=datetime.now()\n",
    "    c_ls, ns_ls = ecc_gudhi.compute_local_contributions(points, epsilon)\n",
    "    print(\"\\t time:\", datetime.now()-start)\n",
    "     \n",
    "    e_ls = ecc_utils.euler_characteristic_list_from_all(c_ls)\n",
    "    print(\"\\t simplicies found:          \", ns_ls)\n",
    "    print(\"\\t points in the ecc plot:    \", len(e_ls))\n",
    "    \n",
    "    ecc_utils.plot_euler_curve(e_ls, draw_lines, \"Star of the simplex - GUDHI\")\n",
    "    \n",
    "#     # extend cliques recursively\n",
    "#     print(\"\\nExtend cliques recursively - pure python\")\n",
    "#     start=datetime.now()\n",
    "#     c = ecc_recursive.compute_local_contributions(points, epsilon)\n",
    "#     print(\"\\t time:\", datetime.now()-start)\n",
    "#     # the number of simplicies is equal to contributions list lenght\n",
    "#     print(\"\\t simplicies found:          \", len(c))\n",
    "    \n",
    "#     e_cc = ecc_utils.euler_characteristic_list_from_all(c)\n",
    "#     reduced_ecc = [e_cc[0]]\n",
    "#     for i, point in enumerate(e_cc[1:]):\n",
    "#         if point[1] != e_cc[i][1]:\n",
    "#             reduced_ecc.append(point)\n",
    "#     print(\"\\t points in the ecc plot:    \", len(reduced_ecc))\n",
    "    \n",
    "#     ecc_utils.plot_euler_curve(reduced_ecc, draw_lines, \"Extend cliques recursively - pure python\")\n",
    "    \n",
    "#     # extend cliques sequentially\n",
    "#     print(\"\\nExtend cliques sequentially - pure python\")\n",
    "#     start=datetime.now()\n",
    "#     c_seq, ns_seq = ecc_sequential.compute_local_contributions(points, epsilon)\n",
    "#     print(\"\\t time:\", datetime.now()-start)\n",
    "#     print(\"\\t simplicies found:          \", ns_seq)\n",
    "    \n",
    "#     e_seq = ecc_utils.euler_characteristic_list_from_all(c_seq)\n",
    "#     print(\"\\t points in the ecc plot:    \", len(e_seq))\n",
    "    \n",
    "#     ecc_utils.plot_euler_curve(e_seq, draw_lines, \"Extend cliques sequentially - pure python\")\n",
    "    \n",
    "    \n",
    "    # extend cliques sequentially CPP\n",
    "    print(\"\\nExtend cliques sequentially - CPP\")\n",
    "    start=datetime.now()\n",
    "    c_cpp, ns_cpp = ecc_sequential_CPP.compute_local_contributions(points, epsilon)\n",
    "    print(\"\\t time:\", datetime.now()-start)\n",
    "    print(\"\\t simplicies found:          \", ns_cpp)\n",
    "    \n",
    "    e_cpp = ecc_utils.euler_characteristic_list_from_all(c_cpp)\n",
    "    print(\"\\t points in the ecc plot:    \", len(e_cpp))\n",
    "    \n",
    "    ecc_utils.plot_euler_curve(e_cpp, draw_lines, \"Extend cliques sequentially - CPP\")\n",
    "    \n",
    "    print('')\n",
    "    print('Consistency tests')\n",
    "    print('Number of simplices: {}'.format(ns_ls==ns_cpp))\n",
    "    print('ECC consistence    : {}'.format(e_ls==e_cpp))"
   ]
  },
  {
   "cell_type": "markdown",
   "metadata": {},
   "source": [
    "## Triangle"
   ]
  },
  {
   "cell_type": "code",
   "execution_count": null,
   "metadata": {},
   "outputs": [],
   "source": [
    "point_cloud = np.array([[0, 0], [4,0], [0,3] ])"
   ]
  },
  {
   "cell_type": "code",
   "execution_count": null,
   "metadata": {},
   "outputs": [],
   "source": [
    "plt.scatter(point_cloud[: , 0], point_cloud[: , 1])"
   ]
  },
  {
   "cell_type": "code",
   "execution_count": null,
   "metadata": {},
   "outputs": [],
   "source": [
    "compare_methods(point_cloud, 10)"
   ]
  },
  {
   "cell_type": "markdown",
   "metadata": {
    "colab_type": "text",
    "id": "-iuN2jTm5lTI"
   },
   "source": [
    "## Rhomboid"
   ]
  },
  {
   "cell_type": "code",
   "execution_count": 18,
   "metadata": {},
   "outputs": [],
   "source": [
    "def compute_ECC_from_simplextree(st):\n",
    "    local_contributions = {} # dict {filtration: contribution}\n",
    "\n",
    "    simplex_counter = 0\n",
    "\n",
    "    for simplex, filtration in st.get_filtration():\n",
    "        contribution = (-1)**(len(simplex)-1) # len(simplex) - 1 = dimension of the simplex\n",
    "        # store the contribution at the right filtration value\n",
    "        local_contributions[filtration] = local_contributions.get(filtration, 0) + contribution\n",
    "\n",
    "        simplex_counter += 1\n",
    "\n",
    "    # remove the contributions that are 0\n",
    "    to_del = []\n",
    "    for key in local_contributions:\n",
    "        if local_contributions[key] == 0:\n",
    "            to_del.append(key)\n",
    "\n",
    "    for key in to_del:\n",
    "        del local_contributions[key]\n",
    "\n",
    "    # convert the dict into a list, sort it according to the filtration and return it\n",
    "    return sorted(list(local_contributions.items()), key = lambda x: x[0]), simplex_counter"
   ]
  },
  {
   "cell_type": "code",
   "execution_count": 19,
   "metadata": {
    "colab": {},
    "colab_type": "code",
    "id": "uMk5CYwI5Ywx"
   },
   "outputs": [
    {
     "name": "stdout",
     "output_type": "stream",
     "text": [
      "([0], 0.0)\n",
      "([1], 0.0)\n",
      "([2], 0.0)\n",
      "([3], 0.0)\n",
      "([2, 3], 3.3541019662496847)\n",
      "([1, 2], 4.031128874149275)\n",
      "([0, 1], 5.315072906367325)\n",
      "([0, 3], 5.408326913195984)\n",
      "([0, 2], 6.0)\n",
      "([0, 1, 2], 6.0)\n",
      "([0, 2, 3], 6.0)\n",
      "([1, 3], 6.519202405202649)\n",
      "([0, 1, 3], 6.519202405202649)\n",
      "([1, 2, 3], 6.519202405202649)\n",
      "([0, 1, 2, 3], 6.519202405202649)\n"
     ]
    }
   ],
   "source": [
    "epsilon = 10\n",
    "\n",
    "point_cloud_1 = np.array([[4,0], [0,3.5], [-2, 0], [-0.5, -3]])\n",
    "\n",
    "rips_complex_1 = gd.RipsComplex(points=point_cloud_1, max_edge_length=epsilon)\n",
    "simplex_tree_1 = rips_complex_1.create_simplex_tree(max_dimension=len(point_cloud_1)-1)\n",
    "\n",
    "for s in simplex_tree_1.get_filtration():\n",
    "    print(s)"
   ]
  },
  {
   "cell_type": "code",
   "execution_count": 20,
   "metadata": {},
   "outputs": [
    {
     "name": "stdout",
     "output_type": "stream",
     "text": [
      "([0], 0.0)\n",
      "([1], 0.0)\n",
      "([2], 0.0)\n",
      "([3], 0.0)\n",
      "([2, 3], 3.554101966249685)\n",
      "([1, 2], 4.231128874149275)\n",
      "([0, 1], 5.515072906367325)\n",
      "([0, 3], 5.6083269131959845)\n",
      "([0, 2], 6.2)\n",
      "([0, 1, 2], 6.2)\n",
      "([0, 2, 3], 6.2)\n",
      "([1, 3], 6.719202405202649)\n",
      "([0, 1, 3], 6.719202405202649)\n",
      "([1, 2, 3], 6.719202405202649)\n",
      "([0, 1, 2, 3], 6.719202405202649)\n"
     ]
    }
   ],
   "source": [
    "simplex_tree_2 = gd.SimplexTree()\n",
    "\n",
    "for s in simplex_tree_1.get_filtration():\n",
    "    f = s[1]\n",
    "    if len(s[0]) > 1:\n",
    "        f += 0.2\n",
    "    simplex_tree_2.insert(s[0], filtration=f)\n",
    "    \n",
    "for s in simplex_tree_2.get_filtration():\n",
    "    print(s)"
   ]
  },
  {
   "cell_type": "code",
   "execution_count": 21,
   "metadata": {
    "colab": {
     "base_uri": "https://localhost:8080/",
     "height": 265
    },
    "colab_type": "code",
    "id": "kq1AtkwK5yqq",
    "outputId": "2e0c34eb-3be5-4f47-a9e9-820e79d2ac36"
   },
   "outputs": [
    {
     "ename": "NameError",
     "evalue": "name 'point_cloud' is not defined",
     "output_type": "error",
     "traceback": [
      "\u001b[0;31m---------------------------------------------------------------------------\u001b[0m",
      "\u001b[0;31mNameError\u001b[0m                                 Traceback (most recent call last)",
      "\u001b[0;32m<ipython-input-21-bcb6fb206b1c>\u001b[0m in \u001b[0;36m<module>\u001b[0;34m\u001b[0m\n\u001b[1;32m      2\u001b[0m \u001b[0mlabels\u001b[0m \u001b[0;34m=\u001b[0m \u001b[0;34m[\u001b[0m\u001b[0;34m\"A\"\u001b[0m\u001b[0;34m,\u001b[0m \u001b[0;34m\"B\"\u001b[0m\u001b[0;34m,\u001b[0m \u001b[0;34m\"C\"\u001b[0m\u001b[0;34m,\u001b[0m \u001b[0;34m\"D\"\u001b[0m\u001b[0;34m]\u001b[0m\u001b[0;34m\u001b[0m\u001b[0;34m\u001b[0m\u001b[0m\n\u001b[1;32m      3\u001b[0m \u001b[0;32mfor\u001b[0m \u001b[0mi\u001b[0m \u001b[0;32min\u001b[0m \u001b[0mrange\u001b[0m\u001b[0;34m(\u001b[0m\u001b[0mlen\u001b[0m\u001b[0;34m(\u001b[0m\u001b[0mpoint_cloud_1\u001b[0m\u001b[0;34m)\u001b[0m\u001b[0;34m)\u001b[0m\u001b[0;34m:\u001b[0m\u001b[0;34m\u001b[0m\u001b[0;34m\u001b[0m\u001b[0m\n\u001b[0;32m----> 4\u001b[0;31m     \u001b[0mplt\u001b[0m\u001b[0;34m.\u001b[0m\u001b[0mscatter\u001b[0m\u001b[0;34m(\u001b[0m\u001b[0mpoint_cloud\u001b[0m\u001b[0;34m[\u001b[0m\u001b[0mi\u001b[0m\u001b[0;34m]\u001b[0m\u001b[0;34m[\u001b[0m\u001b[0;36m0\u001b[0m\u001b[0;34m]\u001b[0m\u001b[0;34m,\u001b[0m \u001b[0mpoint_cloud\u001b[0m\u001b[0;34m[\u001b[0m\u001b[0mi\u001b[0m\u001b[0;34m]\u001b[0m\u001b[0;34m[\u001b[0m\u001b[0;36m1\u001b[0m\u001b[0;34m]\u001b[0m\u001b[0;34m,\u001b[0m \u001b[0mcolor\u001b[0m \u001b[0;34m=\u001b[0m \u001b[0;34m\"red\"\u001b[0m\u001b[0;34m)\u001b[0m\u001b[0;34m\u001b[0m\u001b[0;34m\u001b[0m\u001b[0m\n\u001b[0m\u001b[1;32m      5\u001b[0m     \u001b[0mplt\u001b[0m\u001b[0;34m.\u001b[0m\u001b[0mtext\u001b[0m\u001b[0;34m(\u001b[0m\u001b[0mpoint_cloud\u001b[0m\u001b[0;34m[\u001b[0m\u001b[0mi\u001b[0m\u001b[0;34m]\u001b[0m\u001b[0;34m[\u001b[0m\u001b[0;36m0\u001b[0m\u001b[0;34m]\u001b[0m\u001b[0;34m,\u001b[0m \u001b[0mpoint_cloud\u001b[0m\u001b[0;34m[\u001b[0m\u001b[0mi\u001b[0m\u001b[0;34m]\u001b[0m\u001b[0;34m[\u001b[0m\u001b[0;36m1\u001b[0m\u001b[0;34m]\u001b[0m\u001b[0;34m,\u001b[0m \u001b[0mlabels\u001b[0m\u001b[0;34m[\u001b[0m\u001b[0mi\u001b[0m\u001b[0;34m]\u001b[0m\u001b[0;34m,\u001b[0m \u001b[0mfontsize\u001b[0m \u001b[0;34m=\u001b[0m\u001b[0;36m15\u001b[0m\u001b[0;34m)\u001b[0m\u001b[0;34m\u001b[0m\u001b[0;34m\u001b[0m\u001b[0m\n",
      "\u001b[0;31mNameError\u001b[0m: name 'point_cloud' is not defined"
     ]
    },
    {
     "data": {
      "image/png": "[encoded data removed]",
      "text/plain": [
       "<Figure size 432x288 with 1 Axes>"
      ]
     },
     "metadata": {
      "needs_background": "light"
     },
     "output_type": "display_data"
    }
   ],
   "source": [
    "plt.axis('equal')\n",
    "labels = [\"A\", \"B\", \"C\", \"D\"]\n",
    "for i in range(len(point_cloud_1)):\n",
    "    plt.scatter(point_cloud_1[i][0], point_cloud_1[i][1], color = \"red\")\n",
    "    plt.text(point_cloud_1[i][0], point_cloud_1[i][1], labels[i], fontsize =15)\n"
   ]
  },
  {
   "cell_type": "code",
   "execution_count": null,
   "metadata": {},
   "outputs": [],
   "source": [
    "c_cpp, ns_cpp = compute_ECC_from_simplextree(simplex_tree_1)\n",
    "print(\"\\t simplicies found:          \", ns_cpp)\n",
    "\n",
    "e_cpp = ecc_utils.euler_characteristic_list_from_all(c_cpp)\n",
    "print(\"\\t points in the ecc plot:    \", len(e_cpp))\n",
    "\n",
    "ecc_utils.plot_euler_curve(e_cpp, True, \"Extend cliques sequentially - CPP\")"
   ]
  },
  {
   "cell_type": "code",
   "execution_count": null,
   "metadata": {},
   "outputs": [],
   "source": [
    "#compare_methods(point_cloud, 10)"
   ]
  },
  {
   "cell_type": "markdown",
   "metadata": {
    "colab_type": "text",
    "id": "AnfPIQrn55Pq"
   },
   "source": [
    "## Tetrahedron"
   ]
  },
  {
   "cell_type": "code",
   "execution_count": null,
   "metadata": {
    "colab": {},
    "colab_type": "code",
    "id": "aIplwllL50tB"
   },
   "outputs": [],
   "source": [
    "point_cloud = np.array([[0,0,0], [0,1,0], [2,0,0], [0,0,3]])"
   ]
  },
  {
   "cell_type": "code",
   "execution_count": null,
   "metadata": {
    "colab": {
     "base_uri": "https://localhost:8080/",
     "height": 265
    },
    "colab_type": "code",
    "id": "vvDQGPG151E9",
    "outputId": "589b5b04-7b7e-47d0-e015-0b41773b1521"
   },
   "outputs": [],
   "source": [
    "from mpl_toolkits.mplot3d import Axes3D\n",
    "\n",
    "fig = plt.figure()\n",
    "ax = fig.add_subplot(111, projection='3d')\n",
    "ax.scatter([x[0] for x in point_cloud], [x[1] for x in point_cloud], [x[2] for x in point_cloud])"
   ]
  },
  {
   "cell_type": "code",
   "execution_count": null,
   "metadata": {},
   "outputs": [],
   "source": [
    "compare_methods(point_cloud, 10)"
   ]
  },
  {
   "cell_type": "markdown",
   "metadata": {
    "colab_type": "text",
    "id": "CE9yxTZL6DIr"
   },
   "source": [
    "## Points from the example in the slides\n",
    "\n"
   ]
  },
  {
   "cell_type": "code",
   "execution_count": 4,
   "metadata": {
    "colab": {},
    "colab_type": "code",
    "id": "lSh58ysq6EGP"
   },
   "outputs": [],
   "source": [
    "point_cloud = np.array([[0,0], [2,-0.2], [4,0.2], [0,-1.5], [2,-3], [4,-1], [3.8,-2.5]] )"
   ]
  },
  {
   "cell_type": "code",
   "execution_count": 5,
   "metadata": {
    "colab": {
     "base_uri": "https://localhost:8080/",
     "height": 320
    },
    "colab_type": "code",
    "id": "A6mi7vJp6FLS",
    "outputId": "195485ae-7ecf-4fc4-a0df-586ea9de6b76"
   },
   "outputs": [
    {
     "data": {
      "image/png": "[encoded data removed]",
      "text/plain": [
       "<Figure size 720x360 with 1 Axes>"
      ]
     },
     "metadata": {
      "needs_background": "light"
     },
     "output_type": "display_data"
    }
   ],
   "source": [
    "plt.figure(figsize=(10,5))\n",
    "plt.axis('equal')\n",
    "for i in range(len(point_cloud)):\n",
    "    plt.scatter(point_cloud[i][0], point_cloud[i][1], color = \"blue\")\n",
    "    plt.text(point_cloud[i][0], point_cloud[i][1], i)"
   ]
  },
  {
   "cell_type": "code",
   "execution_count": 6,
   "metadata": {},
   "outputs": [
    {
     "ename": "NameError",
     "evalue": "name 'compare_methods' is not defined",
     "output_type": "error",
     "traceback": [
      "\u001b[0;31m---------------------------------------------------------------------------\u001b[0m",
      "\u001b[0;31mNameError\u001b[0m                                 Traceback (most recent call last)",
      "\u001b[0;32m<ipython-input-6-8826c2e73b20>\u001b[0m in \u001b[0;36m<module>\u001b[0;34m\u001b[0m\n\u001b[0;32m----> 1\u001b[0;31m \u001b[0mcompare_methods\u001b[0m\u001b[0;34m(\u001b[0m\u001b[0mpoint_cloud\u001b[0m\u001b[0;34m,\u001b[0m \u001b[0;36m10\u001b[0m\u001b[0;34m)\u001b[0m\u001b[0;34m\u001b[0m\u001b[0;34m\u001b[0m\u001b[0m\n\u001b[0m",
      "\u001b[0;31mNameError\u001b[0m: name 'compare_methods' is not defined"
     ]
    }
   ],
   "source": [
    "compare_methods(point_cloud, 10)"
   ]
  },
  {
   "cell_type": "code",
   "execution_count": 8,
   "metadata": {},
   "outputs": [
    {
     "name": "stdout",
     "output_type": "stream",
     "text": [
      "\t simplicies found:           127\n",
      "[[0, 7], [1.2, 6], [1.5, 5], [1.5132745950421556, 4], [1.8681541692269403, 3], [2.009975124224178, 2], [2.039607805437114, 1], [2.5, 0], [2.8284271247461903, 1]]\n"
     ]
    },
    {
     "data": {
      "image/png": "[encoded data removed]",
      "text/plain": [
       "<Figure size 432x288 with 1 Axes>"
      ]
     },
     "metadata": {
      "needs_background": "light"
     },
     "output_type": "display_data"
    }
   ],
   "source": [
    "c_cpp, ns_cpp = ecc_sequential_CPP.compute_local_contributions(point_cloud, 10)\n",
    "print(\"\\t simplicies found:          \", ns_cpp)\n",
    "    \n",
    "e_cpp = ecc_plot.euler_characteristic_list_from_all(c_cpp)\n",
    "\n",
    "print(e_cpp)\n",
    "ecc_plot.plot_euler_curve(e_cpp, True)"
   ]
  },
  {
   "cell_type": "code",
   "execution_count": 9,
   "metadata": {},
   "outputs": [
    {
     "name": "stdout",
     "output_type": "stream",
     "text": [
      "\t simplicies found:           127\n",
      "[[0, 7], [1.5, 5], [2.0, 4], [2.009975124224178, 3], [2.0615528128088303, 2], [2.154065922853802, 1], [2.5, 0], [2.8284271247461903, 1]]\n"
     ]
    },
    {
     "data": {
      "image/png": "[encoded data removed]",
      "text/plain": [
       "<Figure size 432x288 with 1 Axes>"
      ]
     },
     "metadata": {
      "needs_background": "light"
     },
     "output_type": "display_data"
    }
   ],
   "source": [
    "point_cloud_2 = np.array([[0,0], [2,-0.2], [4,1], [0,-1.5], [2,-3], [4,-1], [4,-2.5]] )\n",
    "c_cpp2, ns_cpp2 = ecc_sequential_CPP.compute_local_contributions(point_cloud_2, 10)\n",
    "print(\"\\t simplicies found:          \", ns_cpp2)\n",
    "    \n",
    "e_cpp2 = ecc_plot.euler_characteristic_list_from_all(c_cpp2)\n",
    "print(e_cpp2)\n",
    "ecc_plot.plot_euler_curve(e_cpp2, True)"
   ]
  },
  {
   "cell_type": "code",
   "execution_count": null,
   "metadata": {},
   "outputs": [],
   "source": []
  },
  {
   "cell_type": "markdown",
   "metadata": {},
   "source": [
    "<br>\n",
    "<br>\n",
    "<br>\n",
    "<br>\n",
    "<br>\n",
    "<br>\n",
    "<br>\n",
    "<br>"
   ]
  },
  {
   "cell_type": "markdown",
   "metadata": {
    "colab_type": "text",
    "id": "yc3EQ-zS6nRw"
   },
   "source": [
    "# Circle"
   ]
  },
  {
   "cell_type": "code",
   "execution_count": null,
   "metadata": {
    "colab": {},
    "colab_type": "code",
    "id": "CIQrq9xi6ozo"
   },
   "outputs": [],
   "source": [
    "point_cloud = []\n",
    "\n",
    "NUMBER_OF_POINTS = 100\n",
    "\n",
    "random.seed(42)\n",
    "for i in range(NUMBER_OF_POINTS):\n",
    "    angle = random.uniform(0,2*np.pi)\n",
    "    point_cloud.append([np.cos(angle), np.sin(angle)])\n",
    "    \n",
    "point_cloud = np.array(point_cloud)\n",
    "\n",
    "#np.savetxt('circle.csv', point_cloud, fmt='%f', delimiter=',')"
   ]
  },
  {
   "cell_type": "code",
   "execution_count": null,
   "metadata": {
    "colab": {
     "base_uri": "https://localhost:8080/",
     "height": 282
    },
    "colab_type": "code",
    "id": "dDoK_0Ld6pYF",
    "outputId": "d08d5936-7006-4d13-ce35-c708cbc51d13"
   },
   "outputs": [],
   "source": [
    "plt.axis('scaled')\n",
    "plt.xlim((-1.2,1.2))\n",
    "plt.ylim((-1.2,1.2))\n",
    "plt.scatter(point_cloud[:,0], point_cloud[:,1])"
   ]
  },
  {
   "cell_type": "code",
   "execution_count": null,
   "metadata": {},
   "outputs": [],
   "source": [
    "points = point_cloud\n",
    "epsilon = 1\n",
    "draw_lines = False"
   ]
  },
  {
   "cell_type": "code",
   "execution_count": null,
   "metadata": {},
   "outputs": [],
   "source": [
    "compare_methods(point_cloud, epsilon, draw_lines)"
   ]
  },
  {
   "cell_type": "markdown",
   "metadata": {},
   "source": [
    "### we can use memory_profiler to monitor the RAM usage"
   ]
  },
  {
   "cell_type": "code",
   "execution_count": null,
   "metadata": {},
   "outputs": [],
   "source": [
    "%memit ecc_gudhi.compute_local_contributions(points, epsilon)"
   ]
  },
  {
   "cell_type": "code",
   "execution_count": null,
   "metadata": {},
   "outputs": [],
   "source": [
    "#%memit ecc_recursive.compute_local_contributions(points, epsilon)"
   ]
  },
  {
   "cell_type": "code",
   "execution_count": null,
   "metadata": {},
   "outputs": [],
   "source": [
    "#%memit ecc_sequential.compute_local_contributions(points, epsilon)"
   ]
  },
  {
   "cell_type": "code",
   "execution_count": null,
   "metadata": {},
   "outputs": [],
   "source": [
    "%memit ecc_sequential_CPP.compute_local_contributions(points, epsilon)"
   ]
  },
  {
   "cell_type": "code",
   "execution_count": null,
   "metadata": {},
   "outputs": [],
   "source": [
    "%lprun -f compute_local_contributions compute_local_contributions(points, epsilon)"
   ]
  },
  {
   "cell_type": "markdown",
   "metadata": {},
   "source": [
    "<br>\n",
    "<br>\n",
    "<br>\n",
    "<br>\n",
    "<br>\n",
    "<br>\n",
    "<br>\n",
    "<br>"
   ]
  },
  {
   "cell_type": "code",
   "execution_count": null,
   "metadata": {},
   "outputs": [],
   "source": [
    "import compute_local_EC\n",
    "\n",
    "def create_local_graph(points, i, threshold, dbg=False):\n",
    "    center_vertex = points[i]\n",
    "\n",
    "    # enumeration needs to start from i+1 because the center is at position i\n",
    "    id_neigs_of_center_vectex = [j for j,point in enumerate(points[i+1:], i+1) \n",
    "                                 if np.linalg.norm(center_vertex - point) <= threshold]\n",
    "    \n",
    "    if dbg: print(id_neigs_of_center_vectex)\n",
    "       \n",
    "    # create the center graph as a list of lists\n",
    "    # each list corespond to a node and contains its neighbours with distance\n",
    "    # note, edges are always of the type\n",
    "    # (i, j) with i<j in the ordering. \n",
    "    # This is to save space, we do not need the edge (j, i) \n",
    "    # In practice, we are building onlty the upper triangular part\n",
    "    # of the adjecency matrix\n",
    "    \n",
    "    considered_graph = []\n",
    "    \n",
    "    # add central vertex\n",
    "    mapped_center_vertex = []\n",
    "    # enumeration needs to start from 1 because 0 is the center\n",
    "    for j, neigh in enumerate(id_neigs_of_center_vectex, 1):\n",
    "        mapped_center_vertex.append( (j, np.linalg.norm(center_vertex - points[neigh])) )\n",
    "        \n",
    "    considered_graph.append(mapped_center_vertex)\n",
    "    \n",
    "    # add the rest\n",
    "    for j, neigh in enumerate(id_neigs_of_center_vectex, 1):\n",
    "        \n",
    "        if dbg: print(j, neigh)\n",
    "        \n",
    "        neighbours_of_j = []\n",
    "        \n",
    "        # add the others\n",
    "        # note that the index k starts from 1, be careful with the indexing\n",
    "        for z, other_neigh in enumerate(id_neigs_of_center_vectex[j:], j+1):\n",
    "            if dbg: print('    ', z, other_neigh)\n",
    "            dist = np.linalg.norm(points[neigh] - points[other_neigh])\n",
    "            if (dist <= threshold):\n",
    "                neighbours_of_j.append( (z, dist) )\n",
    "        \n",
    "        considered_graph.append(neighbours_of_j)\n",
    "              \n",
    "    return considered_graph\n",
    "\n",
    "\n",
    "\n",
    "def compute_local_contributions(point_cloud, epsilon):\n",
    "    # for each point, create its local graph and find all the\n",
    "    # simplices in its star\n",
    "    \n",
    "    ECC_list = []\n",
    "    total_number_of_simplices = 0\n",
    "\n",
    "    for i in range(len(point_cloud)):\n",
    "        graph_i = create_local_graph(point_cloud, i, epsilon)\n",
    "        local_ECC, number_of_simplices = compute_local_EC.compute_local_EC(graph_i, False)\n",
    "        ECC_list.append(local_ECC)\n",
    "        total_number_of_simplices += number_of_simplices\n",
    "\n",
    "    total_ECC = dict()\n",
    "\n",
    "    for single_ECC in ECC_list:\n",
    "        for key in single_ECC:\n",
    "            total_ECC[key] = total_ECC.get(key, 0) + single_ECC[key]\n",
    "\n",
    "    # remove the contributions that are 0\n",
    "    to_del = []\n",
    "    for key in total_ECC:\n",
    "        if total_ECC[key] == 0:\n",
    "            to_del.append(key)\n",
    "    for key in to_del:\n",
    "        del total_ECC[key]\n",
    "        \n",
    "    return sorted(list(total_ECC.items()), key = lambda x: x[0]) , total_number_of_simplices"
   ]
  },
  {
   "cell_type": "markdown",
   "metadata": {},
   "source": [
    "## Double circle"
   ]
  },
  {
   "cell_type": "code",
   "execution_count": null,
   "metadata": {},
   "outputs": [],
   "source": [
    "point_cloud = []\n",
    "\n",
    "NUMBER_OF_POINTS = 100\n",
    "\n",
    "random.seed(42)\n",
    "for i in range(NUMBER_OF_POINTS):\n",
    "    angle = random.uniform(0,2*np.pi)\n",
    "    point_cloud.append([np.cos(angle), np.sin(angle)])\n",
    "    \n",
    "    angle = random.uniform(0,2*np.pi)\n",
    "    point_cloud.append([2*np.cos(angle), 5*np.sin(angle)])\n",
    "    \n",
    "    \n",
    "point_cloud = np.array(point_cloud)"
   ]
  },
  {
   "cell_type": "code",
   "execution_count": null,
   "metadata": {},
   "outputs": [],
   "source": [
    "plt.axis('scaled')\n",
    "plt.xlim((-2.2,2.2))\n",
    "plt.ylim((-2.2,2.2))\n",
    "plt.scatter(point_cloud[:, 0], point_cloud[:, 1])"
   ]
  },
  {
   "cell_type": "code",
   "execution_count": null,
   "metadata": {},
   "outputs": [],
   "source": [
    "compare_methods(point_cloud, 0.75, draw_lines=False)"
   ]
  },
  {
   "cell_type": "code",
   "execution_count": null,
   "metadata": {},
   "outputs": [],
   "source": [
    "compare_methods(point_cloud, 1, draw_lines=False)"
   ]
  },
  {
   "cell_type": "code",
   "execution_count": null,
   "metadata": {},
   "outputs": [],
   "source": [
    "%%time\n",
    "ecc_gudhi.compute_local_contributions(point_cloud, 1)"
   ]
  },
  {
   "cell_type": "code",
   "execution_count": null,
   "metadata": {},
   "outputs": [],
   "source": [
    "%memit ecc_gudhi.compute_local_contributions(point_cloud, 1)"
   ]
  },
  {
   "cell_type": "code",
   "execution_count": null,
   "metadata": {},
   "outputs": [],
   "source": [
    "%%time\n",
    "%memit ecc_sequential_CPP.compute_local_contributions(point_cloud, 1)"
   ]
  },
  {
   "cell_type": "code",
   "execution_count": null,
   "metadata": {},
   "outputs": [],
   "source": [
    "%memit ecc_sequential_CPP.compute_local_contributions(point_cloud, 1)"
   ]
  },
  {
   "cell_type": "markdown",
   "metadata": {},
   "source": [
    "<br>\n",
    "<br>\n",
    "<br>\n",
    "<br>\n",
    "<br>\n",
    "<br>\n",
    "<br>\n",
    "<br>"
   ]
  },
  {
   "cell_type": "markdown",
   "metadata": {},
   "source": [
    "# infinity"
   ]
  },
  {
   "cell_type": "code",
   "execution_count": null,
   "metadata": {},
   "outputs": [],
   "source": [
    "point_cloud = tadasets.infty_sign(n=50, noise=None)\n",
    "\n",
    "np.savetxt('infinity.csv', point_cloud, fmt='%f', delimiter=',')"
   ]
  },
  {
   "cell_type": "code",
   "execution_count": null,
   "metadata": {},
   "outputs": [],
   "source": [
    "#plt.axis('scaled')\n",
    "plt.scatter(point_cloud[:, 0], point_cloud[:, 1])"
   ]
  },
  {
   "cell_type": "code",
   "execution_count": null,
   "metadata": {},
   "outputs": [],
   "source": [
    "compare_methods(point_cloud, 1)"
   ]
  },
  {
   "cell_type": "markdown",
   "metadata": {},
   "source": [
    "<br>\n",
    "<br>\n",
    "<br>\n",
    "<br>\n",
    "<br>\n",
    "<br>\n",
    "<br>\n",
    "<br>"
   ]
  },
  {
   "cell_type": "markdown",
   "metadata": {},
   "source": [
    "# n shpere"
   ]
  },
  {
   "cell_type": "code",
   "execution_count": null,
   "metadata": {},
   "outputs": [],
   "source": [
    "point_cloud = tadasets.sphere(n=100, r=1)\n",
    "\n",
    "fig = plt.figure()\n",
    "ax = fig.add_subplot(111, projection='3d')\n",
    "\n",
    "ax.scatter(point_cloud[:, 0], point_cloud[:, 1], point_cloud[:, 2])\n",
    "\n",
    "np.savetxt('sphere.csv', point_cloud, fmt='%f', delimiter=',')"
   ]
  },
  {
   "cell_type": "code",
   "execution_count": null,
   "metadata": {},
   "outputs": [],
   "source": [
    "compare_methods(point_cloud, .5, draw_lines=False)"
   ]
  },
  {
   "cell_type": "markdown",
   "metadata": {},
   "source": [
    "# torus"
   ]
  },
  {
   "cell_type": "code",
   "execution_count": null,
   "metadata": {},
   "outputs": [],
   "source": [
    "point_cloud = tadasets.torus(n=100, c=2, a=1)\n",
    "\n",
    "fig = plt.figure()\n",
    "ax = fig.add_subplot(111, projection='3d')\n",
    "\n",
    "ax.scatter(point_cloud[:, 0], point_cloud[:, 1], point_cloud[:, 2])\n",
    "\n",
    "np.savetxt('torus.csv', point_cloud, fmt='%f', delimiter=',')"
   ]
  },
  {
   "cell_type": "markdown",
   "metadata": {},
   "source": [
    "## Hypercube"
   ]
  },
  {
   "cell_type": "code",
   "execution_count": null,
   "metadata": {},
   "outputs": [],
   "source": [
    "# random points in the unit cube\n",
    "\n",
    "N_POINTS = 100\n",
    "DIMENSION = 3\n",
    "\n",
    "np.random.seed(42)\n",
    "point_cloud = np.random.rand(N_POINTS,DIMENSION)"
   ]
  },
  {
   "cell_type": "code",
   "execution_count": null,
   "metadata": {},
   "outputs": [],
   "source": [
    "compare_methods(point_cloud, 0.6, draw_lines=False)"
   ]
  },
  {
   "cell_type": "markdown",
   "metadata": {},
   "source": [
    "# GRID"
   ]
  },
  {
   "cell_type": "code",
   "execution_count": null,
   "metadata": {},
   "outputs": [],
   "source": [
    "def create_grid(dim, lenght):\n",
    "    # creates #dim arrays each of #lenght numbers at 0.1 distance\n",
    "    # then staks them together\n",
    "\n",
    "    return np.stack(np.meshgrid( *[[x/10 for x in range(lenght)] for i in range(dim)]  ), -1).reshape(-1, dim)"
   ]
  },
  {
   "cell_type": "code",
   "execution_count": null,
   "metadata": {},
   "outputs": [],
   "source": [
    "point_cloud = create_grid(4, 5)"
   ]
  },
  {
   "cell_type": "code",
   "execution_count": null,
   "metadata": {},
   "outputs": [],
   "source": [
    "compare_methods(point_cloud, 0.2)"
   ]
  },
  {
   "cell_type": "code",
   "execution_count": null,
   "metadata": {},
   "outputs": [],
   "source": []
  },
  {
   "cell_type": "code",
   "execution_count": null,
   "metadata": {},
   "outputs": [],
   "source": []
  },
  {
   "cell_type": "code",
   "execution_count": 4,
   "metadata": {},
   "outputs": [],
   "source": [
    "import pandas as pd"
   ]
  },
  {
   "cell_type": "code",
   "execution_count": 5,
   "metadata": {},
   "outputs": [
    {
     "data": {
      "text/plain": [
       "(50000, 5)"
      ]
     },
     "execution_count": 5,
     "metadata": {},
     "output_type": "execute_result"
    }
   ],
   "source": [
    "data = pd.read_csv('sphere4_50000.csv', header=None)\n",
    "data.shape"
   ]
  },
  {
   "cell_type": "code",
   "execution_count": 6,
   "metadata": {},
   "outputs": [
    {
     "data": {
      "text/html": [
       "<div>\n",
       "<style scoped>\n",
       "    .dataframe tbody tr th:only-of-type {\n",
       "        vertical-align: middle;\n",
       "    }\n",
       "\n",
       "    .dataframe tbody tr th {\n",
       "        vertical-align: top;\n",
       "    }\n",
       "\n",
       "    .dataframe thead th {\n",
       "        text-align: right;\n",
       "    }\n",
       "</style>\n",
       "<table border=\"1\" class=\"dataframe\">\n",
       "  <thead>\n",
       "    <tr style=\"text-align: right;\">\n",
       "      <th></th>\n",
       "      <th>0</th>\n",
       "      <th>1</th>\n",
       "      <th>2</th>\n",
       "      <th>3</th>\n",
       "      <th>4</th>\n",
       "    </tr>\n",
       "  </thead>\n",
       "  <tbody>\n",
       "    <tr>\n",
       "      <th>0</th>\n",
       "      <td>-0.820170</td>\n",
       "      <td>-0.188449</td>\n",
       "      <td>0.380198</td>\n",
       "      <td>0.123469</td>\n",
       "      <td>0.363335</td>\n",
       "    </tr>\n",
       "    <tr>\n",
       "      <th>1</th>\n",
       "      <td>0.283410</td>\n",
       "      <td>-0.237443</td>\n",
       "      <td>0.694543</td>\n",
       "      <td>0.319030</td>\n",
       "      <td>0.528327</td>\n",
       "    </tr>\n",
       "    <tr>\n",
       "      <th>2</th>\n",
       "      <td>0.637184</td>\n",
       "      <td>0.484025</td>\n",
       "      <td>-0.089570</td>\n",
       "      <td>0.500890</td>\n",
       "      <td>0.317494</td>\n",
       "    </tr>\n",
       "    <tr>\n",
       "      <th>3</th>\n",
       "      <td>-0.110611</td>\n",
       "      <td>0.869256</td>\n",
       "      <td>0.316739</td>\n",
       "      <td>0.024393</td>\n",
       "      <td>-0.362272</td>\n",
       "    </tr>\n",
       "    <tr>\n",
       "      <th>4</th>\n",
       "      <td>0.009451</td>\n",
       "      <td>0.531955</td>\n",
       "      <td>-0.035801</td>\n",
       "      <td>-0.843016</td>\n",
       "      <td>0.070547</td>\n",
       "    </tr>\n",
       "    <tr>\n",
       "      <th>...</th>\n",
       "      <td>...</td>\n",
       "      <td>...</td>\n",
       "      <td>...</td>\n",
       "      <td>...</td>\n",
       "      <td>...</td>\n",
       "    </tr>\n",
       "    <tr>\n",
       "      <th>49995</th>\n",
       "      <td>-0.453727</td>\n",
       "      <td>0.475084</td>\n",
       "      <td>0.493069</td>\n",
       "      <td>-0.271264</td>\n",
       "      <td>-0.501723</td>\n",
       "    </tr>\n",
       "    <tr>\n",
       "      <th>49996</th>\n",
       "      <td>-0.095990</td>\n",
       "      <td>-0.088713</td>\n",
       "      <td>0.267022</td>\n",
       "      <td>-0.779237</td>\n",
       "      <td>0.551729</td>\n",
       "    </tr>\n",
       "    <tr>\n",
       "      <th>49997</th>\n",
       "      <td>0.573412</td>\n",
       "      <td>-0.431368</td>\n",
       "      <td>-0.122464</td>\n",
       "      <td>-0.685246</td>\n",
       "      <td>0.023705</td>\n",
       "    </tr>\n",
       "    <tr>\n",
       "      <th>49998</th>\n",
       "      <td>0.214890</td>\n",
       "      <td>-0.423452</td>\n",
       "      <td>-0.233990</td>\n",
       "      <td>-0.071456</td>\n",
       "      <td>0.845372</td>\n",
       "    </tr>\n",
       "    <tr>\n",
       "      <th>49999</th>\n",
       "      <td>0.697260</td>\n",
       "      <td>-0.103780</td>\n",
       "      <td>0.610161</td>\n",
       "      <td>-0.143101</td>\n",
       "      <td>-0.332090</td>\n",
       "    </tr>\n",
       "  </tbody>\n",
       "</table>\n",
       "<p>50000 rows × 5 columns</p>\n",
       "</div>"
      ],
      "text/plain": [
       "              0         1         2         3         4\n",
       "0     -0.820170 -0.188449  0.380198  0.123469  0.363335\n",
       "1      0.283410 -0.237443  0.694543  0.319030  0.528327\n",
       "2      0.637184  0.484025 -0.089570  0.500890  0.317494\n",
       "3     -0.110611  0.869256  0.316739  0.024393 -0.362272\n",
       "4      0.009451  0.531955 -0.035801 -0.843016  0.070547\n",
       "...         ...       ...       ...       ...       ...\n",
       "49995 -0.453727  0.475084  0.493069 -0.271264 -0.501723\n",
       "49996 -0.095990 -0.088713  0.267022 -0.779237  0.551729\n",
       "49997  0.573412 -0.431368 -0.122464 -0.685246  0.023705\n",
       "49998  0.214890 -0.423452 -0.233990 -0.071456  0.845372\n",
       "49999  0.697260 -0.103780  0.610161 -0.143101 -0.332090\n",
       "\n",
       "[50000 rows x 5 columns]"
      ]
     },
     "execution_count": 6,
     "metadata": {},
     "output_type": "execute_result"
    }
   ],
   "source": [
    "data"
   ]
  },
  {
   "cell_type": "code",
   "execution_count": null,
   "metadata": {},
   "outputs": [],
   "source": [
    "compare_methods(data.values, 0.28, draw_lines=False)"
   ]
  },
  {
   "cell_type": "code",
   "execution_count": null,
   "metadata": {},
   "outputs": [],
   "source": [
    "%memit ecc_gudhi.compute_local_contributions(data.values, 0.28)"
   ]
  },
  {
   "cell_type": "code",
   "execution_count": 10,
   "metadata": {},
   "outputs": [
    {
     "name": "stdout",
     "output_type": "stream",
     "text": [
      "946072121\n",
      "CPU times: user 11h 9min 33s, sys: 5min 46s, total: 11h 15min 19s\n",
      "Wall time: 12h 2min 8s\n"
     ]
    }
   ],
   "source": [
    "%%time\n",
    "a, b = ecc_sequential_CPP.compute_local_contributions(data.values, 0.28)\n",
    "print(b)"
   ]
  },
  {
   "cell_type": "code",
   "execution_count": 7,
   "metadata": {},
   "outputs": [
    {
     "name": "stdout",
     "output_type": "stream",
     "text": [
      "peak memory: 821.23 MiB, increment: 720.93 MiB\n"
     ]
    }
   ],
   "source": [
    "%memit ecc_sequential_CPP.compute_local_contributions(data.values, 0.28)"
   ]
  },
  {
   "cell_type": "code",
   "execution_count": null,
   "metadata": {},
   "outputs": [],
   "source": []
  }
 ],
 "metadata": {
  "colab": {
   "machine_shape": "hm",
   "name": "euler.ipynb",
   "provenance": []
  },
  "kernelspec": {
   "display_name": "Python 3",
   "language": "python",
   "name": "python3"
  },
  "language_info": {
   "codemirror_mode": {
    "name": "ipython",
    "version": 3
   },
   "file_extension": ".py",
   "mimetype": "text/x-python",
   "name": "python",
   "nbconvert_exporter": "python",
   "pygments_lexer": "ipython3",
   "version": "3.8.6"
  }
 },
 "nbformat": 4,
 "nbformat_minor": 1
}
